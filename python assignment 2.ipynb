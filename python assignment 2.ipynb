{
 "cells": [
  {
   "cell_type": "code",
   "execution_count": 1,
   "id": "4f1bfbdf-a2d4-41b9-9f31-4599cbbe3f2d",
   "metadata": {},
   "outputs": [],
   "source": [
    "#STRING"
   ]
  },
  {
   "cell_type": "code",
   "execution_count": 1,
   "id": "f2b9ace9-30df-4052-a19d-9fe44e376d46",
   "metadata": {},
   "outputs": [
    {
     "name": "stdin",
     "output_type": "stream",
     "text": [
      "enter a string to reverse it: hello\n"
     ]
    },
    {
     "name": "stdout",
     "output_type": "stream",
     "text": [
      "reversed string:  olleh\n"
     ]
    }
   ],
   "source": [
    "#1\n",
    "str = input(\"enter a string to reverse it:\")\n",
    "reversed_str = str[::-1]\n",
    "print(\"reversed string: \", reversed_str)"
   ]
  },
  {
   "cell_type": "code",
   "execution_count": 4,
   "id": "c1470669-9a87-4848-9802-9cfc166e743d",
   "metadata": {},
   "outputs": [
    {
     "name": "stdin",
     "output_type": "stream",
     "text": [
      "enter string: abba\n"
     ]
    },
    {
     "name": "stdout",
     "output_type": "stream",
     "text": [
      "string is palindrome\n"
     ]
    }
   ],
   "source": [
    "#2\n",
    "str = input(\"enter string:\")\n",
    "str = str.lower()\n",
    "i = 0\n",
    "j = len(str) - 1\n",
    "ans = True\n",
    "while i <= j:\n",
    "    if str[i] != str[j]:\n",
    "        ans = False\n",
    "        break\n",
    "    i+=1\n",
    "    j-=1\n",
    "    \n",
    "if ans == True:\n",
    "    print(\"string is palindrome\")\n",
    "else:\n",
    "    print(\"string is not palindrome\")"
   ]
  },
  {
   "cell_type": "code",
   "execution_count": 6,
   "id": "2efe1cfd-ecbd-4dda-aebd-931117b12cd2",
   "metadata": {},
   "outputs": [
    {
     "name": "stdin",
     "output_type": "stream",
     "text": [
      "enter string to convert it to uppercase: google\n"
     ]
    },
    {
     "name": "stdout",
     "output_type": "stream",
     "text": [
      "GOOGLE\n"
     ]
    }
   ],
   "source": [
    "#3\n",
    "str = input(\"enter string to convert it to uppercase:\")\n",
    "print(str.upper())"
   ]
  },
  {
   "cell_type": "code",
   "execution_count": 5,
   "id": "92bdc89b-debb-4d03-81ed-09b1282fe387",
   "metadata": {},
   "outputs": [
    {
     "name": "stdin",
     "output_type": "stream",
     "text": [
      "enter string to convert it to lowercase: GOOGLE\n"
     ]
    },
    {
     "name": "stdout",
     "output_type": "stream",
     "text": [
      "google\n"
     ]
    }
   ],
   "source": [
    "#4\n",
    "str = input(\"enter string to convert it to lowercase:\")\n",
    "print(str.lower())"
   ]
  },
  {
   "cell_type": "code",
   "execution_count": 8,
   "id": "4ec2381f-d507-4d7e-899d-23b57c42e1c9",
   "metadata": {},
   "outputs": [
    {
     "name": "stdin",
     "output_type": "stream",
     "text": [
      "enter a string to count number of vowels in it hello world\n"
     ]
    },
    {
     "name": "stdout",
     "output_type": "stream",
     "text": [
      "number of vowels in the given string is:  3\n"
     ]
    }
   ],
   "source": [
    "#5\n",
    "str = input(\"enter a string to count number of vowels in it\")\n",
    "vowels = \"aeiouAEIOU\"\n",
    "vowel_count = 0\n",
    "for i in str:\n",
    "    if i in vowels:\n",
    "        vowel_count += 1\n",
    "        \n",
    "print(\"number of vowels in the given string is: \", vowel_count)"
   ]
  },
  {
   "cell_type": "code",
   "execution_count": 10,
   "id": "6de20d6b-a4cc-4e27-a83b-1201edf3a039",
   "metadata": {},
   "outputs": [
    {
     "name": "stdin",
     "output_type": "stream",
     "text": [
      "enter a string to count number of consonents in it hello world\n"
     ]
    },
    {
     "name": "stdout",
     "output_type": "stream",
     "text": [
      "number of consonent in the given string is:  7\n"
     ]
    }
   ],
   "source": [
    "#6\n",
    "str = input(\"enter a string to count number of consonents in it\")\n",
    "vowels = \"aeiouAEIOU\"\n",
    "consonent_count = 0\n",
    "for i in str:\n",
    "    if i not in vowels and i != \" \":\n",
    "        consonent_count += 1\n",
    "        \n",
    "print(\"number of consonent in the given string is: \", consonent_count)"
   ]
  },
  {
   "cell_type": "code",
   "execution_count": 1,
   "id": "8eb12173-b0ec-405e-9bcc-9e1bce047f43",
   "metadata": {},
   "outputs": [
    {
     "name": "stdin",
     "output_type": "stream",
     "text": [
      "enter string: hello    how  are   you\n"
     ]
    },
    {
     "name": "stdout",
     "output_type": "stream",
     "text": [
      "hellohowareyou\n"
     ]
    }
   ],
   "source": [
    "#7\n",
    "original_string = input(\"enter string:\")\n",
    "no_whitespace_string = original_string.replace(\" \", \"\")\n",
    "print(no_whitespace_string)"
   ]
  },
  {
   "cell_type": "code",
   "execution_count": 3,
   "id": "28f25235-6375-4a3b-84e0-b5461d4f68b2",
   "metadata": {},
   "outputs": [
    {
     "name": "stdin",
     "output_type": "stream",
     "text": [
      "enter string hello world\n"
     ]
    },
    {
     "name": "stdout",
     "output_type": "stream",
     "text": [
      "length of string:  11\n"
     ]
    }
   ],
   "source": [
    "#8\n",
    "str = input(\"enter string\")\n",
    "length = 0\n",
    "for i in str:\n",
    "    length += 1\n",
    "    \n",
    "print(\"length of string: \", length)"
   ]
  },
  {
   "cell_type": "code",
   "execution_count": 2,
   "id": "d8163b54-c76d-4395-8a6e-028a644909a1",
   "metadata": {},
   "outputs": [
    {
     "name": "stdin",
     "output_type": "stream",
     "text": [
      "enter string: hello my name is xyz\n",
      "enter word to find in string str: name\n"
     ]
    },
    {
     "name": "stdout",
     "output_type": "stream",
     "text": [
      "The string str contains the word 'name'.\n"
     ]
    }
   ],
   "source": [
    "#9\n",
    "str = input(\"enter string:\")\n",
    "specific_word = input(\"enter word to find in string str:\")\n",
    "if specific_word in str:\n",
    "    print(f\"The string str contains the word '{specific_word}'.\")\n",
    "else:\n",
    "    print(f\"The string str does not contain the word '{specific_word}'.\")\n",
    "    "
   ]
  },
  {
   "cell_type": "code",
   "execution_count": 6,
   "id": "cd0dc479-3026-4646-be87-2939669e494f",
   "metadata": {},
   "outputs": [
    {
     "name": "stdin",
     "output_type": "stream",
     "text": [
      "enter string: hello, my name is abc\n",
      "enter word to replace: abc\n",
      "enter word to replace with: xyz\n"
     ]
    },
    {
     "name": "stdout",
     "output_type": "stream",
     "text": [
      "new string: hello, my name is xyz \n"
     ]
    }
   ],
   "source": [
    "#10\n",
    "str = input(\"enter string:\")\n",
    "old_word = input(\"enter word to replace:\")\n",
    "new_word = input(\"enter word to replace with:\")\n",
    "new_string = str.replace(old_word, new_word)\n",
    "print(f\"new string: {new_string} \")"
   ]
  },
  {
   "cell_type": "code",
   "execution_count": 8,
   "id": "ca1fa76c-1318-4e1d-af54-9c3250ac82f4",
   "metadata": {},
   "outputs": [
    {
     "name": "stdout",
     "output_type": "stream",
     "text": [
      "The word 'sample' appears 2 times in the string.\n"
     ]
    }
   ],
   "source": [
    "#11\n",
    "main_string = \"This is a sample sentence. This sample sentence is just an example.\"\n",
    "word_to_count = \"sample\"\n",
    "\n",
    "count = main_string.count(word_to_count)\n",
    "print(f\"The word '{word_to_count}' appears {count} times in the string.\")"
   ]
  },
  {
   "cell_type": "code",
   "execution_count": 9,
   "id": "02fb5c27-da08-48fa-910a-58821613759a",
   "metadata": {},
   "outputs": [
    {
     "name": "stdout",
     "output_type": "stream",
     "text": [
      "The word 'sample' first appears at index 10.\n"
     ]
    }
   ],
   "source": [
    "#12\n",
    "main_string = \"This is a sample sentence. This sample sentence is just an example.\"\n",
    "word_to_find = \"sample\"\n",
    "\n",
    "first_occurrence_index = main_string.find(word_to_find)\n",
    "\n",
    "if first_occurrence_index != -1:\n",
    "    print(f\"The word '{word_to_find}' first appears at index {first_occurrence_index}.\")\n",
    "else:\n",
    "    print(f\"The word '{word_to_find}' is not found in the string.\")\n"
   ]
  },
  {
   "cell_type": "code",
   "execution_count": 10,
   "id": "9ea89379-ef69-453d-96b4-8312867b6cff",
   "metadata": {},
   "outputs": [
    {
     "name": "stdout",
     "output_type": "stream",
     "text": [
      "The word 'sample' last appears at index 32.\n"
     ]
    }
   ],
   "source": [
    "#13\n",
    "main_string = \"This is a sample sentence. This sample sentence is just an example.\"\n",
    "word_to_find = \"sample\"\n",
    "\n",
    "last_occurrence_index = main_string.rfind(word_to_find)\n",
    "\n",
    "if last_occurrence_index != -1:\n",
    "    print(f\"The word '{word_to_find}' last appears at index {last_occurrence_index}.\")\n",
    "else:\n",
    "    print(f\"The word '{word_to_find}' is not found in the string.\")\n"
   ]
  },
  {
   "cell_type": "code",
   "execution_count": 13,
   "id": "31a40420-ff36-4594-bb7e-c3101653db5d",
   "metadata": {},
   "outputs": [
    {
     "name": "stdin",
     "output_type": "stream",
     "text": [
      "enter string:  hello my name is xyz\n"
     ]
    },
    {
     "name": "stdout",
     "output_type": "stream",
     "text": [
      "['hello', 'my', 'name', 'is', 'xyz']\n"
     ]
    }
   ],
   "source": [
    "#14\n",
    "str = input(\"enter string: \")\n",
    "word_list = str.split()\n",
    "print(word_list)"
   ]
  },
  {
   "cell_type": "code",
   "execution_count": 2,
   "id": "93a023fe-bc2a-4670-b9bd-cf628681ff38",
   "metadata": {},
   "outputs": [
    {
     "name": "stdout",
     "output_type": "stream",
     "text": [
      "This is a sample sentence.\n"
     ]
    }
   ],
   "source": [
    "#15\n",
    "lst = ['This', 'is', 'a', 'sample', 'sentence.']\n",
    "print(' '.join(lst))"
   ]
  },
  {
   "cell_type": "code",
   "execution_count": 3,
   "id": "0007e69a-8e18-4e6a-b2e8-f3113f16ceca",
   "metadata": {},
   "outputs": [
    {
     "name": "stdout",
     "output_type": "stream",
     "text": [
      "This_is_a_sample_sentence.\n"
     ]
    }
   ],
   "source": [
    "#16\n",
    "original_string = \"This is a sample sentence.\"\n",
    "\n",
    "underscore_string = original_string.replace(\" \", \"_\")\n",
    "print(underscore_string)"
   ]
  },
  {
   "cell_type": "code",
   "execution_count": 5,
   "id": "fa3c3229-5f3d-4b59-8577-d02b7efe4c86",
   "metadata": {},
   "outputs": [
    {
     "name": "stdout",
     "output_type": "stream",
     "text": [
      "the string str starts with 'This'\n"
     ]
    }
   ],
   "source": [
    "#17\n",
    "str = \"This is a sample sentence.\"\n",
    "specific_word = \"This\"\n",
    "\n",
    "if str.startswith(specific_word):\n",
    "    print(f\"the string str starts with '{specific_word}'\")\n",
    "else:\n",
    "    print(f\"the string str does not start with '{specific_word}'\")"
   ]
  },
  {
   "cell_type": "code",
   "execution_count": 9,
   "id": "5a969262-5094-426e-9764-43ad4fdac7ce",
   "metadata": {},
   "outputs": [
    {
     "name": "stdout",
     "output_type": "stream",
     "text": [
      "the string str ends with 'sentence.'\n"
     ]
    }
   ],
   "source": [
    "#18\n",
    "str = \"This is a sample sentence.\"\n",
    "specific_word = \"sentence.\"\n",
    "\n",
    "if str.endswith(specific_word):\n",
    "    print(f\"the string str ends with '{specific_word}'\")\n",
    "else:\n",
    "    print(f\"the string str does not end with '{specific_word}'\")"
   ]
  },
  {
   "cell_type": "code",
   "execution_count": 11,
   "id": "7d2e6ca0-c5e5-42ac-9e54-deca5cce3504",
   "metadata": {},
   "outputs": [
    {
     "name": "stdout",
     "output_type": "stream",
     "text": [
      "Hello, World\n"
     ]
    }
   ],
   "source": [
    "#19\n",
    "str = \"hello, world\"\n",
    "title_case = str.title()\n",
    "print(title_case)"
   ]
  },
  {
   "cell_type": "code",
   "execution_count": 15,
   "id": "85a38e5d-f08c-4f58-abeb-d580a291f8d3",
   "metadata": {},
   "outputs": [
    {
     "name": "stdout",
     "output_type": "stream",
     "text": [
      "longest word in string str is: sentence\n"
     ]
    }
   ],
   "source": [
    "#20\n",
    "str = \"this is a sample sentence\"\n",
    "str_lst = str.split()\n",
    "longest_word = \"\"\n",
    "for word in str_lst:\n",
    "    if len(word) > len(longest_word):\n",
    "        longest_word = word\n",
    "        \n",
    "print(f\"longest word in string str is: {longest_word}\")"
   ]
  },
  {
   "cell_type": "code",
   "execution_count": 18,
   "id": "a24f20bb-d7f5-4ab8-a3fd-6be6e2460e05",
   "metadata": {},
   "outputs": [
    {
     "name": "stdout",
     "output_type": "stream",
     "text": [
      "longest word in string str is: a\n"
     ]
    }
   ],
   "source": [
    "#21\n",
    "str = \"this is a sample sentence\"\n",
    "str_lst = str.split()\n",
    "smallest_word = str_lst[0]\n",
    "for word in str_lst:\n",
    "    if len(word) < len(smallest_word):\n",
    "        smallest_word = word\n",
    "        \n",
    "print(f\"longest word in string str is: {smallest_word}\")"
   ]
  },
  {
   "cell_type": "code",
   "execution_count": 19,
   "id": "35207802-d6be-46f0-b27d-9efce47eb5c2",
   "metadata": {},
   "outputs": [
    {
     "name": "stdin",
     "output_type": "stream",
     "text": [
      "enter string: hello\n"
     ]
    },
    {
     "name": "stdout",
     "output_type": "stream",
     "text": [
      "reversed string : 'olleh'\n"
     ]
    }
   ],
   "source": [
    "#22\n",
    "str = input(\"enter string:\")\n",
    "reversed_str = str[::-1]\n",
    "print(f\"reversed string : '{reversed_str}'\")"
   ]
  },
  {
   "cell_type": "code",
   "execution_count": 27,
   "id": "3c7b330f-507c-4617-9ae3-bbaf52d1e36d",
   "metadata": {},
   "outputs": [
    {
     "name": "stdin",
     "output_type": "stream",
     "text": [
      "enter string: 12abcd\n"
     ]
    },
    {
     "name": "stdout",
     "output_type": "stream",
     "text": [
      "string str is aplha-numeric\n"
     ]
    }
   ],
   "source": [
    "#23\n",
    "str = input(\"enter string:\")\n",
    "if str.isalnum():\n",
    "    print(\"string str is aplha-numeric\")\n",
    "else:\n",
    "    print(\"string str is not alpha-numeric\")"
   ]
  },
  {
   "cell_type": "code",
   "execution_count": 36,
   "id": "b2bc25d0-cd4f-4b67-ac42-c36ed56a1be4",
   "metadata": {},
   "outputs": [
    {
     "name": "stdout",
     "output_type": "stream",
     "text": [
      "['7', '3', '0', '3', '6', '5']\n"
     ]
    }
   ],
   "source": [
    "#24\n",
    "str = \"there are 7 days in a week, 30 days in a month and 365 days in a non leap year\"\n",
    "digits = []\n",
    "for i in str:\n",
    "    if i.isnumeric():\n",
    "        digits.append(i)\n",
    "print(digits)"
   ]
  },
  {
   "cell_type": "code",
   "execution_count": 39,
   "id": "d2c7cadb-9e8b-4aab-ab96-4abf21b8f695",
   "metadata": {},
   "outputs": [
    {
     "name": "stdout",
     "output_type": "stream",
     "text": [
      "['H', 'e', 'l', 'l', 'o', 'i', 'a', 'm', 'y', 'e', 'a', 'r', 's', 'o', 'l', 'd']\n"
     ]
    }
   ],
   "source": [
    "#25\n",
    "str = \"Hello i am 21 years old\"\n",
    "alphabets = []\n",
    "for i in str:\n",
    "    if i.isalpha():\n",
    "        alphabets.append(i)\n",
    "print(alphabets)"
   ]
  },
  {
   "cell_type": "code",
   "execution_count": 2,
   "id": "753a3fbf-df14-4978-ad85-4213bc0c88ea",
   "metadata": {},
   "outputs": [
    {
     "name": "stdout",
     "output_type": "stream",
     "text": [
      "the number of uppercase alphabets is: '8'\n"
     ]
    }
   ],
   "source": [
    "#26\n",
    "str = \"This is a SAMPLE Sentence\"\n",
    "uppercase_count = 0\n",
    "for i in range(0, len(str)):\n",
    "    if str[i].isupper():\n",
    "        uppercase_count += 1\n",
    "print(f\"the number of uppercase alphabets is: '{uppercase_count}'\")"
   ]
  },
  {
   "cell_type": "code",
   "execution_count": 3,
   "id": "5722517d-1092-4de8-ac17-edd0cfa961a2",
   "metadata": {},
   "outputs": [
    {
     "name": "stdout",
     "output_type": "stream",
     "text": [
      "the number of uppercase alphabets is: '13'\n"
     ]
    }
   ],
   "source": [
    "#27\n",
    "str = \"This is a SAMPLE Sentence\"\n",
    "lowercase_count = 0\n",
    "for i in range(0, len(str)):\n",
    "    if str[i].islower():\n",
    "        lowercase_count += 1\n",
    "print(f\"the number of uppercase alphabets is: '{lowercase_count}'\")"
   ]
  },
  {
   "cell_type": "code",
   "execution_count": 6,
   "id": "0318a126-da60-424e-aaa6-da29a3f4b295",
   "metadata": {},
   "outputs": [
    {
     "name": "stdout",
     "output_type": "stream",
     "text": [
      "THIS is a SAMPLE sentence\n"
     ]
    }
   ],
   "source": [
    "#28\n",
    "str = \"THIS is a SAMPLE sentence\"\n",
    "for i in range(0, len(str)):\n",
    "    if str[i].isupper():\n",
    "        str[i].lower()\n",
    "    else:\n",
    "        str[i].upper()\n",
    "print(str)"
   ]
  },
  {
   "cell_type": "code",
   "execution_count": 1,
   "id": "28035ef7-3ae1-419a-9a32-fc53372e82ba",
   "metadata": {},
   "outputs": [
    {
     "name": "stdout",
     "output_type": "stream",
     "text": [
      "This is a  sentence. This  sentence is just an example.\n"
     ]
    }
   ],
   "source": [
    "#29\n",
    "original_string = \"This is a sample sentence. This sample sentence is just an example.\"\n",
    "word_to_remove = \"sample\"\n",
    "\n",
    "updated_string = original_string.replace(word_to_remove, \"\")\n",
    "print(updated_string)\n"
   ]
  },
  {
   "cell_type": "code",
   "execution_count": 3,
   "id": "e8341604-bc2b-4351-abd5-a4b6798b227f",
   "metadata": {},
   "outputs": [
    {
     "name": "stdin",
     "output_type": "stream",
     "text": [
      "enter email xyz@gamil.com\n"
     ]
    },
    {
     "name": "stdout",
     "output_type": "stream",
     "text": [
      "The email address is valid.\n"
     ]
    }
   ],
   "source": [
    "#30\n",
    "def is_valid_email(email):\n",
    "    if '@' in email and '.' in email:\n",
    "        parts = email.split('@')\n",
    "        if len(parts) == 2 and parts[0] and parts[1]:\n",
    "            domain_parts = parts[1].split('.')\n",
    "            if all(domain_parts):\n",
    "                return True\n",
    "    return False\n",
    "\n",
    "email_address = input(\"enter email\")\n",
    "\n",
    "if is_valid_email(email_address):\n",
    "    print(\"The email address is valid.\")\n",
    "else:\n",
    "    print(\"The email address is not valid.\")"
   ]
  },
  {
   "cell_type": "code",
   "execution_count": 4,
   "id": "dd4a81c2-1685-4c1c-aaa0-73dda6128e01",
   "metadata": {},
   "outputs": [
    {
     "name": "stdout",
     "output_type": "stream",
     "text": [
      "Username: example\n"
     ]
    }
   ],
   "source": [
    "#31\n",
    "email_address = \"example@example.com\"\n",
    "\n",
    "username = email_address.split('@')[0]\n",
    "print(\"Username:\", username)"
   ]
  },
  {
   "cell_type": "code",
   "execution_count": 6,
   "id": "78365ee6-3afd-4865-9441-aa581801a636",
   "metadata": {},
   "outputs": [
    {
     "name": "stdout",
     "output_type": "stream",
     "text": [
      "domain name: xyz.com\n"
     ]
    }
   ],
   "source": [
    "#32\n",
    "email_address = \"example@xyz.com\"\n",
    "\n",
    "domain = email_address.split('@')[1]\n",
    "print(\"domain name:\", domain)"
   ]
  },
  {
   "cell_type": "code",
   "execution_count": 9,
   "id": "8b49b69c-c312-4055-84b8-5b5e226262be",
   "metadata": {},
   "outputs": [
    {
     "name": "stdout",
     "output_type": "stream",
     "text": [
      "this is a sample sentence\n"
     ]
    }
   ],
   "source": [
    "#33\n",
    "str = \"this    is   a sample     sentence\"\n",
    "processed_str = \" \".join(str.split())\n",
    "print(processed_str)"
   ]
  },
  {
   "cell_type": "code",
   "execution_count": 1,
   "id": "2b66c14f-1380-4b02-9097-24b58b974fd2",
   "metadata": {},
   "outputs": [
    {
     "name": "stdout",
     "output_type": "stream",
     "text": [
      "The URL is valid.\n"
     ]
    }
   ],
   "source": [
    "#34\n",
    "from urllib.parse import urlparse\n",
    "\n",
    "def is_valid_url(url):\n",
    "    try:\n",
    "        result = urlparse(url)\n",
    "        return all([result.scheme, result.netloc])\n",
    "    except:\n",
    "        return False\n",
    "\n",
    "url = \"https://www.google.com\"\n",
    "if is_valid_url(url):\n",
    "    print(\"The URL is valid.\")\n",
    "else:\n",
    "    print(\"The URL is not valid.\")"
   ]
  },
  {
   "cell_type": "code",
   "execution_count": 5,
   "id": "64c00f88-4930-4246-9d53-a41d2806ae1e",
   "metadata": {},
   "outputs": [
    {
     "name": "stdout",
     "output_type": "stream",
     "text": [
      "protocol is:  https\n"
     ]
    }
   ],
   "source": [
    "#35\n",
    "url = \"https://google.com\"\n",
    "protocol = url.split(\":\")[0]\n",
    "print(\"protocol is: \", protocol)"
   ]
  },
  {
   "cell_type": "code",
   "execution_count": 6,
   "id": "946fb6e7-e356-4c44-bcae-00431dc0731c",
   "metadata": {},
   "outputs": [
    {
     "name": "stdin",
     "output_type": "stream",
     "text": [
      "Enter a string:  this is a sample sentence\n"
     ]
    },
    {
     "name": "stdout",
     "output_type": "stream",
     "text": [
      "'t' appears 2 times\n",
      "'h' appears 1 times\n",
      "'i' appears 2 times\n",
      "'s' appears 4 times\n",
      "' ' appears 4 times\n",
      "'a' appears 2 times\n",
      "'m' appears 1 times\n",
      "'p' appears 1 times\n",
      "'l' appears 1 times\n",
      "'e' appears 4 times\n",
      "'n' appears 2 times\n",
      "'c' appears 1 times\n"
     ]
    }
   ],
   "source": [
    "#36\n",
    "input_string = input(\"Enter a string: \")\n",
    "\n",
    "char_frequency = {}\n",
    "\n",
    "for char in input_string:\n",
    "    char_frequency[char] = char_frequency.get(char, 0) + 1\n",
    "\n",
    "for char, freq in char_frequency.items():\n",
    "    print(f\"'{char}' appears {freq} times\")"
   ]
  },
  {
   "cell_type": "code",
   "execution_count": 19,
   "id": "482bb7f3-ccf2-44d1-9bcf-270ab54d85cd",
   "metadata": {},
   "outputs": [
    {
     "name": "stdout",
     "output_type": "stream",
     "text": [
      "this is a sample sentence #"
     ]
    }
   ],
   "source": [
    "#37\n",
    "import string\n",
    "\n",
    "punctuations = string.punctuation\n",
    "str = \"this is a sample sentence #\"\n",
    "\n",
    "for i in str:\n",
    "    if i in punctuation:\n",
    "        str.replace(i, \"\")\n",
    "    print(i, end=\"\")  \n"
   ]
  },
  {
   "cell_type": "code",
   "execution_count": 23,
   "id": "266afe42-4e50-4c35-a89c-4fa79dd13715",
   "metadata": {},
   "outputs": [
    {
     "name": "stdin",
     "output_type": "stream",
     "text": [
      "enter string 332314\n"
     ]
    },
    {
     "name": "stdout",
     "output_type": "stream",
     "text": [
      "string contains only digit\n"
     ]
    }
   ],
   "source": [
    "#38\n",
    "str = input(\"enter string\")\n",
    "if str.isdigit():\n",
    "    print(\"string contains only digit\")\n",
    "else:\n",
    "    print(\"string contains characters other than digits\")"
   ]
  },
  {
   "cell_type": "code",
   "execution_count": 25,
   "id": "2d27989e-5f69-4962-9331-68d38cfb7744",
   "metadata": {},
   "outputs": [
    {
     "name": "stdin",
     "output_type": "stream",
     "text": [
      "enter string hello1\n"
     ]
    },
    {
     "name": "stdout",
     "output_type": "stream",
     "text": [
      "string contains characters other than alphabets\n"
     ]
    }
   ],
   "source": [
    "#39\n",
    "str = input(\"enter string\")\n",
    "if str.isalpha():\n",
    "    print(\"string contains only alphabets\")\n",
    "else:\n",
    "    print(\"string contains characters other than alphabets\")"
   ]
  },
  {
   "cell_type": "code",
   "execution_count": 28,
   "id": "113f96bf-c405-48d7-b9ad-f96184bd1fe0",
   "metadata": {},
   "outputs": [
    {
     "name": "stdout",
     "output_type": "stream",
     "text": [
      "['H', 'e', 'l', 'l', 'o', ' ', 'i', ' ', 'a', 'm', ' ', '2', '1', ' ', 'y', 'e', 'a', 'r', 's', ' ', 'o', 'l', 'd']\n"
     ]
    }
   ],
   "source": [
    "#40\n",
    "str = \"Hello i am 21 years old\"\n",
    "alphabets = []\n",
    "for i in str:\n",
    "    alphabets.append(i)\n",
    "print(alphabets)"
   ]
  },
  {
   "cell_type": "code",
   "execution_count": 30,
   "id": "ff5f37db-867b-4c50-b3d2-88a7a2ea57ab",
   "metadata": {},
   "outputs": [
    {
     "name": "stdin",
     "output_type": "stream",
     "text": [
      "Enter the first string:  rohan\n",
      "Enter the second string:  haron\n"
     ]
    },
    {
     "name": "stdout",
     "output_type": "stream",
     "text": [
      "The strings are anagrams.\n"
     ]
    }
   ],
   "source": [
    "#41\n",
    "def are_anagrams(str1, str2):\n",
    "    str1 = str1.replace(\" \", \"\").lower()\n",
    "    str2 = str2.replace(\" \", \"\").lower()\n",
    "    return sorted(str1) == sorted(str2)\n",
    "\n",
    "str1 = input(\"Enter the first string: \")\n",
    "str2 = input(\"Enter the second string: \")\n",
    "\n",
    "if are_anagrams(str1, str2):\n",
    "    print(\"The strings are anagrams.\")\n",
    "else:\n",
    "    print(\"The strings are not anagrams.\")"
   ]
  },
  {
   "cell_type": "code",
   "execution_count": 3,
   "id": "aa7b26b8-d577-4bb5-9722-79aca0e96e8c",
   "metadata": {},
   "outputs": [],
   "source": [
    "#42 not done"
   ]
  },
  {
   "cell_type": "code",
   "execution_count": 4,
   "id": "6e503965-31c3-4fb2-bfb3-1f9de4d73de7",
   "metadata": {},
   "outputs": [],
   "source": [
    "#43 not done"
   ]
  },
  {
   "cell_type": "code",
   "execution_count": 10,
   "id": "588ab825-db0f-4729-b4bd-68b63e30cea1",
   "metadata": {},
   "outputs": [
    {
     "name": "stdout",
     "output_type": "stream",
     "text": [
      "'is' appears maximum number of times that is: 3\n"
     ]
    }
   ],
   "source": [
    "#44\n",
    "str = \"Hello my name is xyz . my age is 21. This is a sample sentence\"\n",
    "words = str.split()\n",
    "\n",
    "word_count = {}\n",
    "\n",
    "for i in words:\n",
    "    if i in word_count:\n",
    "        word_count[i] += 1\n",
    "    else:\n",
    "        word_count[i] = 1\n",
    "\n",
    "max_count = 0\n",
    "key = 0\n",
    "for i in word_count:\n",
    "    if word_count[i] > max_count:\n",
    "        max_count = word_count[i]\n",
    "        key = i\n",
    "print(f\"'{key}' appears maximum number of times that is: {max_count}\")"
   ]
  },
  {
   "cell_type": "code",
   "execution_count": 15,
   "id": "0cede2e0-7383-46d2-9dcb-a29cfc76fa66",
   "metadata": {},
   "outputs": [
    {
     "name": "stdout",
     "output_type": "stream",
     "text": [
      "unique words: 'Hello', 'name', 'xyz.', 'age', '21.', 'This', 'a', 'sample', 'sentence', "
     ]
    }
   ],
   "source": [
    "#45\n",
    "str = \"Hello my name is xyz. my age is 21. This is a sample sentence\"\n",
    "words = str.split()\n",
    "\n",
    "word_count = {}\n",
    "\n",
    "for i in words:\n",
    "    if i in word_count:\n",
    "        word_count[i] += 1\n",
    "    else:\n",
    "        word_count[i] = 1\n",
    "print(\"unique words: \", end=\"\")\n",
    "for i in word_count:\n",
    "    if word_count[i] == 1:\n",
    "        print(f\"'{i}',\", end=\" \") "
   ]
  },
  {
   "cell_type": "code",
   "execution_count": 14,
   "id": "d6c18c7f-f068-4cae-9499-017fbe464cf0",
   "metadata": {},
   "outputs": [],
   "source": [
    "#46\n",
    "#not done"
   ]
  },
  {
   "cell_type": "code",
   "execution_count": 26,
   "id": "d6d7aa60-a5e8-41ea-9731-ccf7e0a18337",
   "metadata": {},
   "outputs": [
    {
     "name": "stdout",
     "output_type": "stream",
     "text": [
      "string contains special characters\n"
     ]
    }
   ],
   "source": [
    "#47\n",
    "str = \"this is a sample sentence %\"\n",
    "char = str.split()\n",
    "valid = True\n",
    "for i in char:\n",
    "    if i.isalnum():\n",
    "        valid = True\n",
    "    else:\n",
    "        valid = False\n",
    "if valid:\n",
    "    print(\"string does not contain special characters\")\n",
    "else:\n",
    "    print(\"string contains special characters\")"
   ]
  },
  {
   "cell_type": "code",
   "execution_count": 33,
   "id": "573ffb4d-914c-44b4-8a54-37c9b72295b9",
   "metadata": {},
   "outputs": [
    {
     "name": "stdin",
     "output_type": "stream",
     "text": [
      "enter the position of the word you have to remove 2\n"
     ]
    },
    {
     "name": "stdout",
     "output_type": "stream",
     "text": [
      "This a sample sentence\n"
     ]
    }
   ],
   "source": [
    "#48\n",
    "str = \"This is a sample sentence\"\n",
    "words = str.split()\n",
    "pos = int(input(\"enter the position of the word you have to remove\"))\n",
    "pos -= 1\n",
    "for i in range(0, len(words)):\n",
    "    if i == pos:\n",
    "        words.remove(words[pos])\n",
    "print(\" \".join(words))"
   ]
  },
  {
   "cell_type": "code",
   "execution_count": 38,
   "id": "11edf3c8-468f-47b9-8733-a51801725abf",
   "metadata": {},
   "outputs": [
    {
     "name": "stdin",
     "output_type": "stream",
     "text": [
      "enter position 3\n",
      "enter word to be added sample\n"
     ]
    },
    {
     "name": "stdout",
     "output_type": "stream",
     "text": [
      "This is a sample sentence\n"
     ]
    }
   ],
   "source": [
    "#49\n",
    "str = \"This is a sentence\"\n",
    "words = str.split()\n",
    "pos = int(input(\"enter position\"))\n",
    "word = input(\"enter word to be added\")\n",
    "for i in range(0, len(words)):\n",
    "    if i == pos:\n",
    "        words.insert(pos, word)\n",
    "print(\" \".join(words))"
   ]
  },
  {
   "cell_type": "code",
   "execution_count": null,
   "id": "aa5dc858-6bca-45b9-913f-95207216e547",
   "metadata": {},
   "outputs": [],
   "source": [
    "#50\n",
    "#not done"
   ]
  },
  {
   "cell_type": "code",
   "execution_count": 39,
   "id": "0248fcca-481a-46d0-a9ee-c24251807c03",
   "metadata": {},
   "outputs": [],
   "source": [
    "#LIST"
   ]
  },
  {
   "cell_type": "code",
   "execution_count": 42,
   "id": "4c8b6e4c-2732-49bc-810b-f9496d3b90b1",
   "metadata": {},
   "outputs": [
    {
     "name": "stdout",
     "output_type": "stream",
     "text": [
      "[1, 2, 3, 4, 5, 6, 7, 8, 9, 10]\n"
     ]
    }
   ],
   "source": [
    "#1\n",
    "lst = list(range(1, 11))\n",
    "print(lst)"
   ]
  },
  {
   "cell_type": "code",
   "execution_count": 45,
   "id": "a911e212-6a2b-4f40-aad0-11973f1fe051",
   "metadata": {},
   "outputs": [
    {
     "name": "stdout",
     "output_type": "stream",
     "text": [
      "length of list is:  7\n"
     ]
    }
   ],
   "source": [
    "#2\n",
    "lst = [1, 2, 4, 6, 3, 11, 4]\n",
    "length = 0\n",
    "for i in lst:\n",
    "    length += 1\n",
    "print(\"length of list is: \", length)"
   ]
  },
  {
   "cell_type": "code",
   "execution_count": 46,
   "id": "6d90ceb3-70ee-48d5-9e0f-abbb0e67629d",
   "metadata": {},
   "outputs": [
    {
     "name": "stdout",
     "output_type": "stream",
     "text": [
      "old list:  [1, 2, 4, 6, 3, 11, 4]\n",
      "new list:  [1, 2, 4, 6, 3, 11, 4, 5]\n"
     ]
    }
   ],
   "source": [
    "#3\n",
    "lst = [1, 2, 4, 6, 3, 11, 4]\n",
    "print(\"old list: \", lst)\n",
    "lst.append(5)\n",
    "print(\"new list: \", lst)"
   ]
  },
  {
   "cell_type": "code",
   "execution_count": 47,
   "id": "761617e0-cb6c-4946-a4b0-b3c438673857",
   "metadata": {},
   "outputs": [
    {
     "name": "stdout",
     "output_type": "stream",
     "text": [
      "old list:  [1, 2, 4, 6, 3, 11, 4]\n",
      "new list:  [5, 1, 2, 4, 6, 3, 11, 4]\n"
     ]
    }
   ],
   "source": [
    "#4\n",
    "lst = [1, 2, 4, 6, 3, 11, 4]\n",
    "print(\"old list: \", lst)\n",
    "lst.insert(0, 5)\n",
    "print(\"new list: \", lst)"
   ]
  },
  {
   "cell_type": "code",
   "execution_count": 49,
   "id": "9f4fd56c-be1e-4045-8e4f-aa08dca2fc28",
   "metadata": {},
   "outputs": [
    {
     "name": "stdout",
     "output_type": "stream",
     "text": [
      "old list:  [1, 2, 4, 6, 3, 11, 4]\n",
      "new list:  [2, 4, 6, 3, 11, 4]\n"
     ]
    }
   ],
   "source": [
    "#5\n",
    "lst = [1, 2, 4, 6, 3, 11, 4]\n",
    "print(\"old list: \", lst)\n",
    "lst.remove(1)\n",
    "print(\"new list: \", lst)"
   ]
  },
  {
   "cell_type": "code",
   "execution_count": 51,
   "id": "4f9e5bf9-d585-4f0b-965d-a5c482c68630",
   "metadata": {},
   "outputs": [
    {
     "name": "stdout",
     "output_type": "stream",
     "text": [
      "old list:  [1, 2, 4, 6, 3, 11, 4]\n",
      "new list:  [2, 4, 6, 3, 11, 4]\n"
     ]
    }
   ],
   "source": [
    "#6\n",
    "lst = [1, 2, 4, 6, 3, 11, 4]\n",
    "print(\"old list: \", lst)\n",
    "lst.pop(0)\n",
    "print(\"new list: \", lst)"
   ]
  },
  {
   "cell_type": "code",
   "execution_count": 2,
   "id": "e8111fe0-442a-47c4-a6b9-45922ea72289",
   "metadata": {},
   "outputs": [
    {
     "name": "stdin",
     "output_type": "stream",
     "text": [
      "enter element to check in the list: 11\n"
     ]
    },
    {
     "name": "stdout",
     "output_type": "stream",
     "text": [
      "element exists in list\n"
     ]
    }
   ],
   "source": [
    "#7\n",
    "lst = [1, 2, 4, 6, 3, 11, 4]\n",
    "x = int(input(\"enter element to check in the list:\"))\n",
    "if x in lst:\n",
    "    print(\"element exists in list\")\n",
    "else:\n",
    "    print(\"element do not exist\")"
   ]
  },
  {
   "cell_type": "code",
   "execution_count": 6,
   "id": "38961d9a-db49-442f-9bc2-5f9e94c357e5",
   "metadata": {},
   "outputs": [
    {
     "name": "stdin",
     "output_type": "stream",
     "text": [
      "enter element:  4\n"
     ]
    },
    {
     "name": "stdout",
     "output_type": "stream",
     "text": [
      "index of first occurence of 4 is: 2\n"
     ]
    }
   ],
   "source": [
    "#8\n",
    "lst = [1, 2, 4, 6, 3, 11, 4]\n",
    "x = int(input(\"enter element: \"))\n",
    "print(f\"index of first occurence of {x} is: {lst.index(x)}\")"
   ]
  },
  {
   "cell_type": "code",
   "execution_count": 2,
   "id": "0bb1d8ee-91f4-40c2-ae0b-13b79b1ea1ff",
   "metadata": {},
   "outputs": [
    {
     "name": "stdin",
     "output_type": "stream",
     "text": [
      "enter element to find its occurence: 1\n"
     ]
    },
    {
     "name": "stdout",
     "output_type": "stream",
     "text": [
      "the occurence count of '1' in list is: 4\n"
     ]
    }
   ],
   "source": [
    "#9\n",
    "lst = [1, 2, 4, 5, 6, 1, 2, 3, 7, 1, 9, 2, 1]\n",
    "x = int(input(\"enter element to find its occurence:\"))\n",
    "count = 0\n",
    "for i in lst:\n",
    "    if x == i:\n",
    "        count += 1\n",
    "print(f\"the occurence count of '{x}' in list is: {count}\")"
   ]
  },
  {
   "cell_type": "code",
   "execution_count": 5,
   "id": "63723ce2-9a1d-4b41-8a0c-2770cbfe6d18",
   "metadata": {},
   "outputs": [
    {
     "name": "stdout",
     "output_type": "stream",
     "text": [
      "old list:  [1, 2, 4, 6, 3, 11, 4]\n",
      "reversed list:  [4, 11, 3, 6, 4, 2, 1]\n"
     ]
    }
   ],
   "source": [
    "#10\n",
    "lst = [1, 2, 4, 6, 3, 11, 4]\n",
    "print(\"old list: \", lst)\n",
    "lst.reverse()\n",
    "print(\"reversed list: \", lst)"
   ]
  },
  {
   "cell_type": "code",
   "execution_count": 8,
   "id": "455b488d-45ff-4d2d-9fd9-b6946143cf79",
   "metadata": {},
   "outputs": [
    {
     "name": "stdout",
     "output_type": "stream",
     "text": [
      "old list:  [1, 2, 4, 6, 3, 11, 4]\n",
      "sorted list in ascending order:  [1, 2, 3, 4, 4, 6, 11]\n"
     ]
    }
   ],
   "source": [
    "#11\n",
    "lst = [1, 2, 4, 6, 3, 11, 4]\n",
    "print(\"old list: \", lst)\n",
    "lst.sort()\n",
    "print(\"sorted list in ascending order: \", lst)"
   ]
  },
  {
   "cell_type": "code",
   "execution_count": 9,
   "id": "ef0256d2-b338-4f1e-85c3-74bc19435bb7",
   "metadata": {},
   "outputs": [
    {
     "name": "stdout",
     "output_type": "stream",
     "text": [
      "old list:  [1, 2, 4, 6, 3, 11, 4]\n",
      "sorted list in descending order:  [11, 6, 4, 4, 3, 2, 1]\n"
     ]
    }
   ],
   "source": [
    "#12\n",
    "lst = [1, 2, 4, 6, 3, 11, 4]\n",
    "print(\"old list: \", lst)\n",
    "lst.sort(reverse=True)\n",
    "print(\"sorted list in descending order: \", lst)"
   ]
  },
  {
   "cell_type": "code",
   "execution_count": 10,
   "id": "242177ee-322a-451a-ae65-cb636ad9aea9",
   "metadata": {},
   "outputs": [
    {
     "name": "stdout",
     "output_type": "stream",
     "text": [
      "[2, 4, 6, 8, 10, 12, 14, 16, 18, 20]\n"
     ]
    }
   ],
   "source": [
    "#13\n",
    "lst = []\n",
    "for i in range(1, 21):\n",
    "    if i%2 == 0:\n",
    "        lst.append(i)\n",
    "print(lst)"
   ]
  },
  {
   "cell_type": "code",
   "execution_count": 12,
   "id": "da12758c-f8b8-4b9c-a631-c7b9b417688d",
   "metadata": {},
   "outputs": [
    {
     "name": "stdout",
     "output_type": "stream",
     "text": [
      "[1, 3, 5, 7, 9, 11, 13, 15, 17, 19]\n"
     ]
    }
   ],
   "source": [
    "#14\n",
    "lst = []\n",
    "for i in range(1, 21):\n",
    "    if i%2 != 0:\n",
    "        lst.append(i)\n",
    "print(lst)"
   ]
  },
  {
   "cell_type": "code",
   "execution_count": 13,
   "id": "286b2fe5-f25e-431f-b26b-46d1188f3230",
   "metadata": {},
   "outputs": [
    {
     "name": "stdout",
     "output_type": "stream",
     "text": [
      "sum:  31\n"
     ]
    }
   ],
   "source": [
    "#15\n",
    "lst = [1, 2, 4, 6, 3, 11, 4]\n",
    "sum = 0\n",
    "for i in lst:\n",
    "    sum += i\n",
    "print(\"sum: \", sum)"
   ]
  },
  {
   "cell_type": "code",
   "execution_count": 15,
   "id": "b5a840a8-83cb-4c78-b696-254b0a8d8c44",
   "metadata": {},
   "outputs": [
    {
     "name": "stdout",
     "output_type": "stream",
     "text": [
      "maximum value in the list is:  11\n"
     ]
    }
   ],
   "source": [
    "#16\n",
    "lst = [1, 2, 4, 6, 3, 11, 4]\n",
    "maximum = lst[0]\n",
    "for i in range(0, len(lst)):\n",
    "    if lst[i] > maximum:\n",
    "        maximum = lst[i]\n",
    "print(\"maximum value in the list is: \", maximum)"
   ]
  },
  {
   "cell_type": "code",
   "execution_count": 19,
   "id": "ad488f4a-f5a7-4caa-83db-898fc8b877f3",
   "metadata": {},
   "outputs": [
    {
     "name": "stdout",
     "output_type": "stream",
     "text": [
      "maximum value in the list is:  1\n"
     ]
    }
   ],
   "source": [
    "#17\n",
    "lst = [1, 2, 4, 6, 3, 11, 4]\n",
    "minimum = lst[0]\n",
    "for i in range(0, len(lst)):\n",
    "    if lst[i] < minimum:\n",
    "        minimum = lst[i]\n",
    "print(\"maximum value in the list is: \", minimum)"
   ]
  },
  {
   "cell_type": "code",
   "execution_count": 21,
   "id": "0b93d0bf-5d93-4587-a435-743dbb7888c5",
   "metadata": {},
   "outputs": [
    {
     "name": "stdout",
     "output_type": "stream",
     "text": [
      "[1, 4, 9, 16, 25, 36, 49, 64, 81, 100]\n"
     ]
    }
   ],
   "source": [
    "#18\n",
    "lst = []\n",
    "for i in range(1, 11):\n",
    "    lst.append(i*i)\n",
    "print(lst)"
   ]
  },
  {
   "cell_type": "code",
   "execution_count": 23,
   "id": "1393c489-9892-4482-9be0-e51ec773fcb8",
   "metadata": {},
   "outputs": [
    {
     "name": "stdout",
     "output_type": "stream",
     "text": [
      "[2, 7, 6, 7, 1, 1, 4, 9, 4, 9]\n"
     ]
    }
   ],
   "source": [
    "#19\n",
    "import random\n",
    "lst = []\n",
    "for i in range(1, 11):\n",
    "    lst.append(random.randint(1, 10))\n",
    "print(lst)"
   ]
  },
  {
   "cell_type": "code",
   "execution_count": 30,
   "id": "2e83b7d9-140b-4dc8-80d0-2301741f5158",
   "metadata": {},
   "outputs": [
    {
     "name": "stdout",
     "output_type": "stream",
     "text": [
      "[1, 2, 4, 6, 7, 9]\n"
     ]
    }
   ],
   "source": [
    "#20\n",
    "lst = [2, 7, 6, 7, 1, 1, 4, 9, 4, 9]\n",
    "print(list(set(lst)))"
   ]
  },
  {
   "cell_type": "code",
   "execution_count": 31,
   "id": "cc1efd08-cfa5-401d-baaa-f62ef3248c60",
   "metadata": {},
   "outputs": [
    {
     "name": "stdout",
     "output_type": "stream",
     "text": [
      "Common elements: [4, 5]\n"
     ]
    }
   ],
   "source": [
    "#21\n",
    "list1 = [1, 2, 3, 4, 5]\n",
    "list2 = [4, 5, 6, 7, 8]\n",
    "\n",
    "common_elements = [element for element in list1 if element in list2]\n",
    "\n",
    "print(\"Common elements:\", common_elements)"
   ]
  },
  {
   "cell_type": "code",
   "execution_count": 37,
   "id": "e105746a-d621-4ffa-b395-61d52ab961f1",
   "metadata": {},
   "outputs": [
    {
     "name": "stdout",
     "output_type": "stream",
     "text": [
      "different elements: [1, 2, 3]\n"
     ]
    }
   ],
   "source": [
    "#22\n",
    "list1 = [1, 2, 3, 4, 5]\n",
    "list2 = [4, 5, 6, 7, 8]\n",
    "\n",
    "difference = [element for element in list1 if element not in list2]\n",
    "\n",
    "print(\"different elements:\", difference)"
   ]
  },
  {
   "cell_type": "code",
   "execution_count": 39,
   "id": "d74c250d-3a87-4f53-a308-2eaa48b4ad97",
   "metadata": {},
   "outputs": [
    {
     "name": "stdout",
     "output_type": "stream",
     "text": [
      "[1, 2, 3, 4, 5, 4, 5, 6, 7, 8]\n"
     ]
    }
   ],
   "source": [
    "#23\n",
    "list1 = [1, 2, 3, 4, 5]\n",
    "list2 = [4, 5, 6, 7, 8]\n",
    "\n",
    "for i in list2:\n",
    "    list1.append(i)\n",
    "print(list1)"
   ]
  },
  {
   "cell_type": "code",
   "execution_count": 40,
   "id": "2b6bf126-23dd-4330-b8f5-83ee4952659b",
   "metadata": {},
   "outputs": [
    {
     "name": "stdout",
     "output_type": "stream",
     "text": [
      "[2, 4, 8, 12, 6, 22, 8]\n"
     ]
    }
   ],
   "source": [
    "#24\n",
    "lst = [1, 2, 4, 6, 3, 11, 4]\n",
    "for i in range(0, len(lst)):\n",
    "    lst[i] *= 2\n",
    "print(lst)"
   ]
  },
  {
   "cell_type": "code",
   "execution_count": 41,
   "id": "f0e9a272-5b1a-4a0e-8b90-2f2d79fa2f5e",
   "metadata": {},
   "outputs": [
    {
     "name": "stdout",
     "output_type": "stream",
     "text": [
      "even numbers in list lst are:  [2, 4, 6, 4]\n"
     ]
    }
   ],
   "source": [
    "#25\n",
    "lst = [1, 2, 4, 6, 3, 11, 4]\n",
    "even_lst = []\n",
    "for i in lst:\n",
    "    if i%2 == 0:\n",
    "        even_lst.append(i)\n",
    "print(\"even numbers in list lst are: \", even_lst)"
   ]
  },
  {
   "cell_type": "code",
   "execution_count": 42,
   "id": "bc160976-150a-4cc1-98d6-aa493334f077",
   "metadata": {},
   "outputs": [
    {
     "name": "stdout",
     "output_type": "stream",
     "text": [
      "string list:  ['1', '2', '4', '6', '3', '11', '4']\n",
      "integer list:  [1, 2, 4, 6, 3, 11, 4]\n"
     ]
    }
   ],
   "source": [
    "#26\n",
    "str_lst = ['1', '2', '4', '6', '3', '11', '4']\n",
    "int_lst = []\n",
    "print(\"string list: \", str_lst) \n",
    "for i in str_lst:\n",
    "    int_lst.append(int(i))\n",
    "print(\"integer list: \", int_lst)"
   ]
  },
  {
   "cell_type": "code",
   "execution_count": 43,
   "id": "732c3b82-9cd5-40fd-addb-1fb90d8cc0fc",
   "metadata": {},
   "outputs": [
    {
     "name": "stdout",
     "output_type": "stream",
     "text": [
      "integer list:  [1, 2, 4, 6, 3, 11, 4]\n",
      "string list:  ['1', '2', '4', '6', '3', '11', '4']\n"
     ]
    }
   ],
   "source": [
    "#27\n",
    "int_lst = [1, 2, 4, 6, 3, 11, 4]\n",
    "str_lst = []\n",
    "print(\"integer list: \", int_lst)\n",
    "for i in int_lst:\n",
    "    str_lst.append(str(i))\n",
    "print(\"string list: \", str_lst) "
   ]
  },
  {
   "cell_type": "code",
   "execution_count": 45,
   "id": "0148fd95-577e-4ea2-b93a-dbff87827645",
   "metadata": {},
   "outputs": [],
   "source": [
    "#28\n",
    "#not done"
   ]
  },
  {
   "cell_type": "code",
   "execution_count": 48,
   "id": "63c83de5-5c4e-4f1b-9804-073c8546d5cd",
   "metadata": {},
   "outputs": [
    {
     "name": "stdout",
     "output_type": "stream",
     "text": [
      "1 1 2 3 5 8 13 21 34 55 "
     ]
    }
   ],
   "source": [
    "#29\n",
    "def fib(n):\n",
    "    if n == 0 or n == 1:\n",
    "        return n\n",
    "    return fib(n-1) + fib(n-2)\n",
    "\n",
    "for i in range(1, 11):\n",
    "    print(fib(i), end=\" \")"
   ]
  },
  {
   "cell_type": "code",
   "execution_count": 50,
   "id": "4b1c427a-018f-4c3e-a38e-d0e78ef84b58",
   "metadata": {},
   "outputs": [
    {
     "name": "stdout",
     "output_type": "stream",
     "text": [
      "The list is sorted.\n"
     ]
    }
   ],
   "source": [
    "#30\n",
    "def is_sorted(lst):\n",
    "    for i in range(len(lst) - 1):\n",
    "        if lst[i] > lst[i + 1]:\n",
    "            return False\n",
    "    return True\n",
    "\n",
    "my_list = [1, 1, 2, 3, 4, 5]\n",
    "sorted_status = is_sorted(my_list)\n",
    "\n",
    "if sorted_status:\n",
    "    print(\"The list is sorted.\")\n",
    "else:\n",
    "    print(\"The list is not sorted.\")"
   ]
  },
  {
   "cell_type": "code",
   "execution_count": 51,
   "id": "57a6a4f8-4a6d-4233-b19b-f3b024be9c0c",
   "metadata": {},
   "outputs": [
    {
     "name": "stdin",
     "output_type": "stream",
     "text": [
      "enter the rotation number of list: 2\n"
     ]
    },
    {
     "name": "stdout",
     "output_type": "stream",
     "text": [
      "[3, 4, 5, 1, 2]\n"
     ]
    }
   ],
   "source": [
    "#31\n",
    "lst = [1, 2, 3, 4, 5]\n",
    "positions = int(input(\"enter the rotation number of list:\"))\n",
    "positions %= len(lst)\n",
    "rotated_lst = lst[positions:] + lst[:positions]\n",
    "print(rotated_lst)"
   ]
  },
  {
   "cell_type": "code",
   "execution_count": 56,
   "id": "3a3a1088-9e16-4e31-8d38-f4d0d8c93228",
   "metadata": {},
   "outputs": [
    {
     "name": "stdin",
     "output_type": "stream",
     "text": [
      "enter the rotation number of list: 2\n"
     ]
    },
    {
     "name": "stdout",
     "output_type": "stream",
     "text": [
      "[4, 5, 1, 2, 3]\n"
     ]
    }
   ],
   "source": [
    "#32\n",
    "lst = [1, 2, 3, 4, 5]\n",
    "positions = int(input(\"enter the rotation number of list:\"))\n",
    "positions %= len(lst)\n",
    "rotated_lst = lst[-positions:] + lst[:-positions]\n",
    "print(rotated_lst)"
   ]
  },
  {
   "cell_type": "code",
   "execution_count": 60,
   "id": "5bbdfbe3-b9d2-42d3-ab4d-5da441326640",
   "metadata": {},
   "outputs": [
    {
     "name": "stdout",
     "output_type": "stream",
     "text": [
      "2 3 5 7 11 13 17 19 23 29 31 37 41 43 47 "
     ]
    }
   ],
   "source": [
    "#33\n",
    "prime_lst = []\n",
    "for i in range(0, 51):\n",
    "    prime_lst.append(i)\n",
    "prime_lst[0] = 0\n",
    "prime_lst[1] = 0\n",
    "\n",
    "p = 2\n",
    "while p*p <= len(prime_lst):\n",
    "    if p != 0:\n",
    "        for i in range(2*p, len(prime_lst), p):\n",
    "            prime_lst[i] = 0\n",
    "        p += 1\n",
    "\n",
    "for i in range(len(prime_lst)):\n",
    "    if prime_lst[i] != 0:\n",
    "        print(prime_lst[i], end = \" \")"
   ]
  },
  {
   "cell_type": "code",
   "execution_count": 61,
   "id": "26dd0562-b402-499b-bd1a-b013c69237fc",
   "metadata": {},
   "outputs": [],
   "source": [
    "#34\n",
    "#not done"
   ]
  },
  {
   "cell_type": "code",
   "execution_count": 62,
   "id": "eb368d47-c0be-473e-928d-ef2fe22549c3",
   "metadata": {},
   "outputs": [
    {
     "name": "stdout",
     "output_type": "stream",
     "text": [
      "second largest number in the list is:  19\n"
     ]
    }
   ],
   "source": [
    "#35\n",
    "lst = [1, 4, 5, 2, 8, 19, 32]\n",
    "lst.sort(reverse=True)\n",
    "print(\"second largest number in the list is: \", lst[1])"
   ]
  },
  {
   "cell_type": "code",
   "execution_count": 63,
   "id": "1be6bbba-e779-46f3-acc9-69f509864178",
   "metadata": {},
   "outputs": [
    {
     "name": "stdout",
     "output_type": "stream",
     "text": [
      "[1, 16, 25, 4, 64, 81, 9]\n"
     ]
    }
   ],
   "source": [
    "#36\n",
    "lst = [1, 4, 5, 2, 8, 9, 3]\n",
    "for i in range(0, len(lst)):\n",
    "    lst[i] = lst[i]*lst[i]\n",
    "print(lst)"
   ]
  },
  {
   "cell_type": "code",
   "execution_count": 64,
   "id": "083321a6-5f50-4d91-b548-92544204808a",
   "metadata": {},
   "outputs": [],
   "source": [
    "#37\n",
    "#not done"
   ]
  },
  {
   "cell_type": "code",
   "execution_count": 1,
   "id": "f320b627-6404-4831-b33f-eb3b0b94dd43",
   "metadata": {},
   "outputs": [
    {
     "name": "stdout",
     "output_type": "stream",
     "text": [
      "[9, 4, 1, 3, 5, 2, 8]\n"
     ]
    }
   ],
   "source": [
    "#38\n",
    "import random\n",
    "\n",
    "lst = [1, 4, 5, 2, 8, 9, 3]\n",
    "random.shuffle(lst)\n",
    "print(lst)"
   ]
  },
  {
   "cell_type": "code",
   "execution_count": 2,
   "id": "f5856716-604b-4d6f-b5fb-d9e7276988e5",
   "metadata": {},
   "outputs": [
    {
     "name": "stdout",
     "output_type": "stream",
     "text": [
      "1 2 6 24 120 720 5040 40320 362880 3628800 "
     ]
    }
   ],
   "source": [
    "#39\n",
    "def fac(n):\n",
    "    if n <= 1:\n",
    "        return n\n",
    "    return fac(n-1)*n\n",
    "\n",
    "for i in range(1, 11):\n",
    "    print(fac(i), end=\" \")"
   ]
  },
  {
   "cell_type": "code",
   "execution_count": 6,
   "id": "971b346e-2788-4379-b03e-6053af3e193b",
   "metadata": {},
   "outputs": [
    {
     "name": "stdout",
     "output_type": "stream",
     "text": [
      "two lists have at least one element in common.\n"
     ]
    }
   ],
   "source": [
    "#40\n",
    "list1 = [1, 2, 3, 4, 5]\n",
    "list2 = [4, 5, 6, 7, 8]\n",
    "\n",
    "common_elements = [i for i in list1 if i in list2]\n",
    "if len(common_elements) >= 1:\n",
    "    print(\"two lists have at least one element in common.\")\n",
    "else:\n",
    "    print(\"two lists dont have at least one element in common.\")"
   ]
  },
  {
   "cell_type": "code",
   "execution_count": 8,
   "id": "b080c62c-7ccc-40df-be3d-3189e7fc3dd2",
   "metadata": {},
   "outputs": [
    {
     "name": "stdout",
     "output_type": "stream",
     "text": [
      "[]\n"
     ]
    }
   ],
   "source": [
    "#41\n",
    "lst = [1, 4, 5, 2, 8, 9, 3]\n",
    "lst.clear()\n",
    "print(lst)"
   ]
  },
  {
   "cell_type": "code",
   "execution_count": 10,
   "id": "36699d60-1579-4aee-ae61-56b3ac0fbacf",
   "metadata": {},
   "outputs": [
    {
     "name": "stdout",
     "output_type": "stream",
     "text": [
      "[1, 0, 5, 0, 0, 9, 3]\n"
     ]
    }
   ],
   "source": [
    "#42\n",
    "lst = [1, -4, 5, -2, -8, 9, 3]\n",
    "for i in range(0, len(lst)):\n",
    "    if lst[i] < 0:\n",
    "        lst[i] = 0\n",
    "print(lst)"
   ]
  },
  {
   "cell_type": "code",
   "execution_count": 15,
   "id": "ea762c63-ea80-494a-a97d-7a6452397acc",
   "metadata": {},
   "outputs": [
    {
     "name": "stdout",
     "output_type": "stream",
     "text": [
      "['this', 'is', 'a', 'sample', 'sentence']\n"
     ]
    }
   ],
   "source": [
    "#43\n",
    "str = \"this is a sample sentence\"\n",
    "lst = str.split()\n",
    "print(lst)"
   ]
  },
  {
   "cell_type": "code",
   "execution_count": 16,
   "id": "56cf93d1-e779-4798-810f-4f590e00361f",
   "metadata": {},
   "outputs": [
    {
     "name": "stdout",
     "output_type": "stream",
     "text": [
      "this is a sample sentence\n"
     ]
    }
   ],
   "source": [
    "#44\n",
    "lst = ['this', 'is', 'a', 'sample', 'sentence']\n",
    "str = ' '.join(lst)\n",
    "print(str)"
   ]
  },
  {
   "cell_type": "code",
   "execution_count": 20,
   "id": "5e612efd-71a2-4eae-9909-1054f44c04f2",
   "metadata": {},
   "outputs": [
    {
     "name": "stdout",
     "output_type": "stream",
     "text": [
      "[2, 4, 8, 16, 32, 64, 128, 256, 512, 1024]\n"
     ]
    }
   ],
   "source": [
    "#45\n",
    "lst = []\n",
    "n = 10\n",
    "for i in range(1, n+1):\n",
    "    lst.append(pow(2, i))\n",
    "print(lst)"
   ]
  },
  {
   "cell_type": "code",
   "execution_count": 21,
   "id": "97175351-0b23-40bf-9eb6-1585e9418187",
   "metadata": {},
   "outputs": [
    {
     "name": "stdout",
     "output_type": "stream",
     "text": [
      "longest word in list is: 'sentence'\n"
     ]
    }
   ],
   "source": [
    "#46\n",
    "lst = ['this', 'is', 'a', 'sample', 'sentence']\n",
    "longest_word = max(lst, key=len)\n",
    "print(f\"longest word in list is: '{longest_word}'\")"
   ]
  },
  {
   "cell_type": "code",
   "execution_count": 22,
   "id": "9ea45ec8-04c0-4feb-91a1-4451b439ef3b",
   "metadata": {},
   "outputs": [
    {
     "name": "stdout",
     "output_type": "stream",
     "text": [
      "smallest word in list is: 'a'\n"
     ]
    }
   ],
   "source": [
    "#47\n",
    "lst = ['this', 'is', 'a', 'sample', 'sentence']\n",
    "smallest_word = min(lst, key=len)\n",
    "print(f\"smallest word in list is: '{smallest_word}'\")"
   ]
  },
  {
   "cell_type": "code",
   "execution_count": 25,
   "id": "b7bf391d-f247-41f6-9213-bd41353fabd0",
   "metadata": {},
   "outputs": [
    {
     "name": "stdin",
     "output_type": "stream",
     "text": [
      "enter value of n upto which you want first `n` triangular numbers: 10\n"
     ]
    },
    {
     "name": "stdout",
     "output_type": "stream",
     "text": [
      "[1, 3, 6, 10, 15, 21, 28, 36, 45, 55]\n"
     ]
    }
   ],
   "source": [
    "#48\n",
    "lst = []\n",
    "n = int(input(\"enter value of n upto which you want first `n` triangular numbers:\"))\n",
    "for i in range(1, n+1):\n",
    "    x = (i*(i+1))//2\n",
    "    lst.append(x)\n",
    "print(lst)"
   ]
  },
  {
   "cell_type": "code",
   "execution_count": 29,
   "id": "b8ae5480-18ef-455b-84ff-9587859f4bb3",
   "metadata": {},
   "outputs": [
    {
     "name": "stdout",
     "output_type": "stream",
     "text": [
      "[3, 2, 1, 4, 5]\n"
     ]
    }
   ],
   "source": [
    "#50\n",
    "lst = [1, 2, 3, 4, 5]\n",
    "index1 = 2\n",
    "index2 = 0\n",
    "lst[index1], lst[index2] = lst[index2], lst[index1]\n",
    "print(lst)                            "
   ]
  },
  {
   "cell_type": "code",
   "execution_count": 30,
   "id": "5806f97d-be26-4fd2-8899-7fd71a03f617",
   "metadata": {},
   "outputs": [],
   "source": [
    "#49\n",
    "#not done"
   ]
  },
  {
   "cell_type": "code",
   "execution_count": 31,
   "id": "90df8e81-a8d7-4c88-ae2d-95564ace189e",
   "metadata": {},
   "outputs": [],
   "source": [
    "#TUPLE"
   ]
  },
  {
   "cell_type": "code",
   "execution_count": 32,
   "id": "e9625712-fbb3-4dbb-96fe-554ed00d7285",
   "metadata": {},
   "outputs": [
    {
     "name": "stdout",
     "output_type": "stream",
     "text": [
      "(1, 2, 3, 4, 5)\n"
     ]
    }
   ],
   "source": [
    "#1\n",
    "tup = (1, 2, 3, 4, 5)\n",
    "print(tup)"
   ]
  },
  {
   "cell_type": "code",
   "execution_count": 35,
   "id": "c9ce68f7-f1d7-4474-9eaf-376baa1a5731",
   "metadata": {},
   "outputs": [
    {
     "name": "stdout",
     "output_type": "stream",
     "text": [
      "3\n"
     ]
    }
   ],
   "source": [
    "#2\n",
    "tup = (1, 2, 3, 4, 5)\n",
    "print(tup[2])"
   ]
  },
  {
   "cell_type": "code",
   "execution_count": 37,
   "id": "fed0c150-df02-40f9-b0f4-f1a6eb371a19",
   "metadata": {},
   "outputs": [
    {
     "name": "stdout",
     "output_type": "stream",
     "text": [
      "length of tuple is:  5\n"
     ]
    }
   ],
   "source": [
    "#3\n",
    "tup = (1, 2, 3, 4, 5)\n",
    "length = 0\n",
    "for i in tup:\n",
    "    length += 1\n",
    "print(\"length of tuple is: \", length)"
   ]
  },
  {
   "cell_type": "code",
   "execution_count": 38,
   "id": "ce45e0d6-5d84-4646-ac8b-b0574aa17bc3",
   "metadata": {},
   "outputs": [
    {
     "name": "stdout",
     "output_type": "stream",
     "text": [
      "occurence of 1 in tuple is: 3\n"
     ]
    }
   ],
   "source": [
    "#4\n",
    "tup = (1, 2, 3, 4, 5, 1, 3, 2, 4, 2, 1)\n",
    "x = 1\n",
    "count = 0\n",
    "for i in tup:\n",
    "    if i == x:\n",
    "        count += 1\n",
    "print(f\"occurence of {x} in tuple is: {count}\")"
   ]
  },
  {
   "cell_type": "code",
   "execution_count": 41,
   "id": "73464283-06fa-459e-8183-467ea66160c4",
   "metadata": {},
   "outputs": [
    {
     "name": "stdout",
     "output_type": "stream",
     "text": [
      "index of 4 in tuple is:  3\n"
     ]
    }
   ],
   "source": [
    "#5\n",
    "tup = (1, 2, 3, 4, 5, 1, 3, 2, 4, 2, 1)\n",
    "print(\"index of 4 in tuple is: \", tup.index(4))"
   ]
  },
  {
   "cell_type": "code",
   "execution_count": 5,
   "id": "70a21a8b-7565-48d9-8074-7efe44303f8a",
   "metadata": {},
   "outputs": [
    {
     "name": "stdin",
     "output_type": "stream",
     "text": [
      "enter element to find:  1\n"
     ]
    },
    {
     "name": "stdout",
     "output_type": "stream",
     "text": [
      "element present in tuple\n"
     ]
    }
   ],
   "source": [
    "#6\n",
    "tup = (1, 4, 6, 2, 19, 23, 43, 56, 77, 11, 99)\n",
    "x = int(input(\"enter element to find: \"))\n",
    "\n",
    "if x in tup:\n",
    "    print(\"element present in tuple\")\n",
    "else:\n",
    "    print(\"element is not present in tuple\")\n"
   ]
  },
  {
   "cell_type": "code",
   "execution_count": 6,
   "id": "d38aa001-3de1-4eef-b32e-da6a7d90e278",
   "metadata": {},
   "outputs": [
    {
     "name": "stdout",
     "output_type": "stream",
     "text": [
      "[1, 2, 3, 4, 5]\n"
     ]
    }
   ],
   "source": [
    "#7\n",
    "tup = (1, 2, 3, 4, 5)\n",
    "lst = list(tup)\n",
    "print(lst)"
   ]
  },
  {
   "cell_type": "code",
   "execution_count": 7,
   "id": "046c40b3-74bb-49cc-9a01-831d67f05f68",
   "metadata": {},
   "outputs": [
    {
     "name": "stdout",
     "output_type": "stream",
     "text": [
      "(1, 2, 3, 4, 5)\n"
     ]
    }
   ],
   "source": [
    "#8\n",
    "lst = [1, 2, 3, 4, 5]\n",
    "tup = tuple(lst)\n",
    "print(tup)"
   ]
  },
  {
   "cell_type": "code",
   "execution_count": 8,
   "id": "b5b8ffd2-cc84-47f8-a65b-84319264c19b",
   "metadata": {},
   "outputs": [
    {
     "name": "stdout",
     "output_type": "stream",
     "text": [
      "Value of a: 1\n",
      "Value of b: 2\n",
      "Value of c: 3\n"
     ]
    }
   ],
   "source": [
    "#9\n",
    "tup = (1, 2, 3)\n",
    "a, b, c = tup\n",
    "print(\"Value of a:\", a)\n",
    "print(\"Value of b:\", b)\n",
    "print(\"Value of c:\", c)"
   ]
  },
  {
   "cell_type": "code",
   "execution_count": 10,
   "id": "26444781-086e-4029-8910-ec9412f2d764",
   "metadata": {},
   "outputs": [
    {
     "name": "stdout",
     "output_type": "stream",
     "text": [
      "(2, 4, 6, 8, 10)\n"
     ]
    }
   ],
   "source": [
    "#10\n",
    "tup = tuple(i for i in range(2, 11, 2))\n",
    "print(tup)"
   ]
  },
  {
   "cell_type": "code",
   "execution_count": 13,
   "id": "c5ebeb64-f730-4cbc-8d74-9f9db62edac7",
   "metadata": {},
   "outputs": [
    {
     "name": "stdout",
     "output_type": "stream",
     "text": [
      "(1, 3, 5, 7, 9)\n"
     ]
    }
   ],
   "source": [
    "#11\n",
    "tup = tuple(i for i in range(1, 11, 2))\n",
    "print(tup)"
   ]
  },
  {
   "cell_type": "code",
   "execution_count": 14,
   "id": "1d891871-722d-4341-9c79-9c05090ad90f",
   "metadata": {},
   "outputs": [
    {
     "name": "stdout",
     "output_type": "stream",
     "text": [
      "(1, 2, 3, 3, 4, 5)\n"
     ]
    }
   ],
   "source": [
    "#12\n",
    "tup1 = (1, 2, 3)\n",
    "tup2 = (3, 4, 5)\n",
    "concatenated_tuple = tup1 + tup2\n",
    "print(concatenated_tuple)"
   ]
  },
  {
   "cell_type": "code",
   "execution_count": 16,
   "id": "3ca847db-f1ba-48ec-85d4-9faeb14f7670",
   "metadata": {},
   "outputs": [
    {
     "name": "stdout",
     "output_type": "stream",
     "text": [
      "(1, 2, 3, 1, 2, 3, 1, 2, 3)\n"
     ]
    }
   ],
   "source": [
    "#13\n",
    "tup = (1, 2, 3)\n",
    "print(tup*3)"
   ]
  },
  {
   "cell_type": "code",
   "execution_count": 20,
   "id": "47b0c2c3-c20b-4f0e-924e-3e076da319e3",
   "metadata": {},
   "outputs": [
    {
     "name": "stdout",
     "output_type": "stream",
     "text": [
      "tuple is empty\n"
     ]
    }
   ],
   "source": [
    "#14\n",
    "tup = ()\n",
    "if not tup:\n",
    "    print(\"tuple is empty\")\n",
    "else:\n",
    "    print(\"tuple is not empty\")\n"
   ]
  },
  {
   "cell_type": "code",
   "execution_count": 21,
   "id": "7014e236-0490-46e5-8622-598fcacf1ca3",
   "metadata": {},
   "outputs": [
    {
     "name": "stdout",
     "output_type": "stream",
     "text": [
      "Nested tuple: ((1, 2, 3), ('a', 'b', 'c'), (True, False))\n"
     ]
    }
   ],
   "source": [
    "#15\n",
    "nested_tuple = ((1, 2, 3), ('a', 'b', 'c'), (True, False))\n",
    "\n",
    "print(\"Nested tuple:\", nested_tuple)"
   ]
  },
  {
   "cell_type": "code",
   "execution_count": 22,
   "id": "39823513-b96e-4122-87f3-32da36e6f1c0",
   "metadata": {},
   "outputs": [
    {
     "name": "stdout",
     "output_type": "stream",
     "text": [
      "1\n"
     ]
    }
   ],
   "source": [
    "#16\n",
    "nested_tuple = ((1, 2, 3), ('a', 'b', 'c'), (True, False))\n",
    "print(nested_tuple[0][0])"
   ]
  },
  {
   "cell_type": "code",
   "execution_count": 26,
   "id": "1efe0ff3-58d0-427b-a3d1-f6812c62e971",
   "metadata": {},
   "outputs": [
    {
     "name": "stdout",
     "output_type": "stream",
     "text": [
      "(1,)\n"
     ]
    }
   ],
   "source": [
    "#17\n",
    "tup = (1,)\n",
    "print(tup)"
   ]
  },
  {
   "cell_type": "code",
   "execution_count": 31,
   "id": "252d7685-47a1-4b2c-9c12-44dd56d5885d",
   "metadata": {},
   "outputs": [
    {
     "name": "stdout",
     "output_type": "stream",
     "text": [
      "max of both the tuples is : (3, 4, 5)\n",
      "min of both the tuples is: (1, 2, 3)\n"
     ]
    }
   ],
   "source": [
    "#18\n",
    "tup1 = (1, 2, 3)\n",
    "tup2 = (3, 4, 5)\n",
    "print(\"max of both the tuples is :\", max(tup1, tup2))\n",
    "print(\"min of both the tuples is:\", min(tup1, tup2))"
   ]
  },
  {
   "cell_type": "code",
   "execution_count": 35,
   "id": "49244535-74b6-4ad3-8e36-14234beadc1f",
   "metadata": {},
   "outputs": [
    {
     "name": "stdout",
     "output_type": "stream",
     "text": [
      "before deletion:  (1, 3, 5, 7, 9)\n",
      "after deletion:\n"
     ]
    },
    {
     "ename": "NameError",
     "evalue": "name 'tup' is not defined",
     "output_type": "error",
     "traceback": [
      "\u001b[0;31m---------------------------------------------------------------------------\u001b[0m",
      "\u001b[0;31mNameError\u001b[0m                                 Traceback (most recent call last)",
      "Cell \u001b[0;32mIn[35], line 6\u001b[0m\n\u001b[1;32m      4\u001b[0m \u001b[38;5;28;01mdel\u001b[39;00m tup\n\u001b[1;32m      5\u001b[0m \u001b[38;5;28mprint\u001b[39m(\u001b[38;5;124m\"\u001b[39m\u001b[38;5;124mafter deletion:\u001b[39m\u001b[38;5;124m\"\u001b[39m)\n\u001b[0;32m----> 6\u001b[0m \u001b[38;5;28mprint\u001b[39m(\u001b[43mtup\u001b[49m)\n",
      "\u001b[0;31mNameError\u001b[0m: name 'tup' is not defined"
     ]
    }
   ],
   "source": [
    "#19\n",
    "tup = (1, 3, 5, 7, 9)\n",
    "print(\"before deletion: \",tup)\n",
    "del tup\n",
    "print(\"after deletion:\")\n",
    "print(tup)"
   ]
  },
  {
   "cell_type": "code",
   "execution_count": 36,
   "id": "3070cb78-aca0-43cd-8ee2-3e7ba6edbbf1",
   "metadata": {},
   "outputs": [
    {
     "name": "stdout",
     "output_type": "stream",
     "text": [
      "sliced tuple:  (2, 3)\n"
     ]
    }
   ],
   "source": [
    "#20\n",
    "tup = (1, 2, 3, 4, 5)\n",
    "sliced_tuple = tup[1:3]\n",
    "print(\"sliced tuple: \", sliced_tuple)"
   ]
  },
  {
   "cell_type": "code",
   "execution_count": 41,
   "id": "63e2305a-200a-4b94-84b3-30e3210cae04",
   "metadata": {},
   "outputs": [
    {
     "name": "stdout",
     "output_type": "stream",
     "text": [
      "maximum value in the tuple is:  992\n"
     ]
    }
   ],
   "source": [
    "#21\n",
    "tup = (1, 4, 2, 88, 54, 992, 23, 102)\n",
    "print(\"maximum value in the tuple is: \",max(tup))"
   ]
  },
  {
   "cell_type": "code",
   "execution_count": 40,
   "id": "a352cc8e-e8f6-4891-9bd4-4558766406ed",
   "metadata": {},
   "outputs": [
    {
     "name": "stdout",
     "output_type": "stream",
     "text": [
      "minumum value in the tuple is:  -10\n"
     ]
    }
   ],
   "source": [
    "#22\n",
    "tup = (-10, 4, 2, 88, 54, 992, 23, 102)\n",
    "print(\"minumum value in the tuple is: \",min(tup))"
   ]
  },
  {
   "cell_type": "code",
   "execution_count": 43,
   "id": "c1db49ee-53e1-48f4-81b4-bbc1d4b2ae4a",
   "metadata": {},
   "outputs": [
    {
     "name": "stdout",
     "output_type": "stream",
     "text": [
      "('h', 'e', 'l', 'l', 'o', ' ', 'w', 'o', 'r', 'l', 'd')\n"
     ]
    }
   ],
   "source": [
    "#23\n",
    "str = \"hello world\"\n",
    "tup = tuple(str)\n",
    "print(tup)"
   ]
  },
  {
   "cell_type": "code",
   "execution_count": 53,
   "id": "74a801d9-2041-42c1-b935-15e0fda86ba5",
   "metadata": {},
   "outputs": [
    {
     "ename": "TypeError",
     "evalue": "'str' object is not callable",
     "output_type": "error",
     "traceback": [
      "\u001b[0;31m---------------------------------------------------------------------------\u001b[0m",
      "\u001b[0;31mTypeError\u001b[0m                                 Traceback (most recent call last)",
      "Cell \u001b[0;32mIn[53], line 4\u001b[0m\n\u001b[1;32m      1\u001b[0m \u001b[38;5;66;03m#24\u001b[39;00m\n\u001b[1;32m      2\u001b[0m char_tuple \u001b[38;5;241m=\u001b[39m (\u001b[38;5;124m'\u001b[39m\u001b[38;5;124mH\u001b[39m\u001b[38;5;124m'\u001b[39m, \u001b[38;5;124m'\u001b[39m\u001b[38;5;124me\u001b[39m\u001b[38;5;124m'\u001b[39m, \u001b[38;5;124m'\u001b[39m\u001b[38;5;124ml\u001b[39m\u001b[38;5;124m'\u001b[39m, \u001b[38;5;124m'\u001b[39m\u001b[38;5;124ml\u001b[39m\u001b[38;5;124m'\u001b[39m, \u001b[38;5;124m'\u001b[39m\u001b[38;5;124mo\u001b[39m\u001b[38;5;124m'\u001b[39m)\n\u001b[0;32m----> 4\u001b[0m char_string \u001b[38;5;241m=\u001b[39m \u001b[38;5;124;43m'\u001b[39;49m\u001b[38;5;124;43m'\u001b[39;49m\u001b[38;5;241;43m.\u001b[39;49m\u001b[43mjoin\u001b[49m\u001b[43m(\u001b[49m\u001b[38;5;28;43mstr\u001b[39;49m\u001b[43m(\u001b[49m\u001b[43mchar\u001b[49m\u001b[43m)\u001b[49m\u001b[43m \u001b[49m\u001b[38;5;28;43;01mfor\u001b[39;49;00m\u001b[43m \u001b[49m\u001b[43mchar\u001b[49m\u001b[43m \u001b[49m\u001b[38;5;129;43;01min\u001b[39;49;00m\u001b[43m \u001b[49m\u001b[43mchar_tuple\u001b[49m\u001b[43m)\u001b[49m\n\u001b[1;32m      6\u001b[0m \u001b[38;5;28mprint\u001b[39m(\u001b[38;5;124m\"\u001b[39m\u001b[38;5;124mConverted string:\u001b[39m\u001b[38;5;124m\"\u001b[39m, char_string)\n",
      "Cell \u001b[0;32mIn[53], line 4\u001b[0m, in \u001b[0;36m<genexpr>\u001b[0;34m(.0)\u001b[0m\n\u001b[1;32m      1\u001b[0m \u001b[38;5;66;03m#24\u001b[39;00m\n\u001b[1;32m      2\u001b[0m char_tuple \u001b[38;5;241m=\u001b[39m (\u001b[38;5;124m'\u001b[39m\u001b[38;5;124mH\u001b[39m\u001b[38;5;124m'\u001b[39m, \u001b[38;5;124m'\u001b[39m\u001b[38;5;124me\u001b[39m\u001b[38;5;124m'\u001b[39m, \u001b[38;5;124m'\u001b[39m\u001b[38;5;124ml\u001b[39m\u001b[38;5;124m'\u001b[39m, \u001b[38;5;124m'\u001b[39m\u001b[38;5;124ml\u001b[39m\u001b[38;5;124m'\u001b[39m, \u001b[38;5;124m'\u001b[39m\u001b[38;5;124mo\u001b[39m\u001b[38;5;124m'\u001b[39m)\n\u001b[0;32m----> 4\u001b[0m char_string \u001b[38;5;241m=\u001b[39m \u001b[38;5;124m'\u001b[39m\u001b[38;5;124m'\u001b[39m\u001b[38;5;241m.\u001b[39mjoin(\u001b[38;5;28;43mstr\u001b[39;49m\u001b[43m(\u001b[49m\u001b[43mchar\u001b[49m\u001b[43m)\u001b[49m \u001b[38;5;28;01mfor\u001b[39;00m char \u001b[38;5;129;01min\u001b[39;00m char_tuple)\n\u001b[1;32m      6\u001b[0m \u001b[38;5;28mprint\u001b[39m(\u001b[38;5;124m\"\u001b[39m\u001b[38;5;124mConverted string:\u001b[39m\u001b[38;5;124m\"\u001b[39m, char_string)\n",
      "\u001b[0;31mTypeError\u001b[0m: 'str' object is not callable"
     ]
    }
   ],
   "source": [
    "#24\n",
    "char_tuple = ('H', 'e', 'l', 'l', 'o')\n",
    "\n",
    "char_string = ''.join(str(char) for char in char_tuple)\n",
    "\n",
    "print(\"Converted string:\", char_string)\n"
   ]
  },
  {
   "cell_type": "code",
   "execution_count": 54,
   "id": "280e5312-f7bd-47a2-b43f-86d4c82aaa86",
   "metadata": {},
   "outputs": [
    {
     "name": "stdout",
     "output_type": "stream",
     "text": [
      "(1, 'hello', True, 2.5)\n"
     ]
    }
   ],
   "source": [
    "#25\n",
    "mixed_tup = (1, \"hello\", True, 2.5)\n",
    "print(mixed_tup)"
   ]
  },
  {
   "cell_type": "code",
   "execution_count": 57,
   "id": "6470b71b-ff31-4590-a647-7eaba017f143",
   "metadata": {},
   "outputs": [
    {
     "name": "stdout",
     "output_type": "stream",
     "text": [
      "both the tuples are identical\n"
     ]
    }
   ],
   "source": [
    "#26\n",
    "tup1 = (1, 2 , 3)\n",
    "tup2 = (1, 2, 3)\n",
    "if tup1 == tup2:\n",
    "    print(\"both the tuples are identical\")\n",
    "else:\n",
    "    print(\"both the tuples are not identical\")"
   ]
  },
  {
   "cell_type": "code",
   "execution_count": 61,
   "id": "49864ade-d5f1-4725-abb3-3a2b1db50efe",
   "metadata": {},
   "outputs": [
    {
     "name": "stdout",
     "output_type": "stream",
     "text": [
      "(-4, 1, 2, 4, 6, 10)\n"
     ]
    }
   ],
   "source": [
    "#27\n",
    "tup = (1, 4, 2, 6, 10, -4)\n",
    "lst = list(tup)\n",
    "print(tuple(sorted(lst)))"
   ]
  },
  {
   "cell_type": "code",
   "execution_count": 62,
   "id": "05d1d350-e805-4a6e-8f9b-cb6e55627bc3",
   "metadata": {},
   "outputs": [
    {
     "name": "stdout",
     "output_type": "stream",
     "text": [
      "('1', '2', '3', '4', '5')\n"
     ]
    }
   ],
   "source": [
    "#28\n",
    "tup = (1, 2, 3, 4, 5)\n",
    "str_tuple = tuple('{}'.format(item) for item in tup)\n",
    "print(str_tuple)"
   ]
  },
  {
   "cell_type": "code",
   "execution_count": 63,
   "id": "f7d603b8-abbe-4c70-8934-f081cd955e2c",
   "metadata": {},
   "outputs": [
    {
     "name": "stdout",
     "output_type": "stream",
     "text": [
      "(1, 2, 3, 4, 5)\n"
     ]
    }
   ],
   "source": [
    "#29\n",
    "tup = ('1', '2', '3', '4', '5')\n",
    "int_tuple = tuple(int(item) for item in tup)\n",
    "print(int_tuple)"
   ]
  },
  {
   "cell_type": "code",
   "execution_count": 65,
   "id": "c5fe3d84-4f0b-4dcf-b807-071a5015e56d",
   "metadata": {},
   "outputs": [
    {
     "name": "stdout",
     "output_type": "stream",
     "text": [
      "(1, 2, 3, 4, 5, 6)\n"
     ]
    }
   ],
   "source": [
    "#30\n",
    "tup1 = (1, 2 , 3)\n",
    "tup2 = (4, 5, 6)\n",
    "tup1 = tup1 + tup2\n",
    "print(tup1)"
   ]
  },
  {
   "cell_type": "code",
   "execution_count": 66,
   "id": "b42ac515-889f-45c5-8371-3a72e92af03b",
   "metadata": {},
   "outputs": [],
   "source": [
    "#31\n",
    "#not done"
   ]
  },
  {
   "cell_type": "code",
   "execution_count": 68,
   "id": "7eeb446d-2d90-45c9-a20e-db3e3b9d276f",
   "metadata": {},
   "outputs": [
    {
     "name": "stdout",
     "output_type": "stream",
     "text": [
      "(2, 3, 5, 7, 11)\n"
     ]
    }
   ],
   "source": [
    "#32\n",
    "def is_prime(number):\n",
    "    if number <= 1:\n",
    "        return False\n",
    "    if number <= 3:\n",
    "        return True\n",
    "    if number % 2 == 0 or number % 3 == 0:\n",
    "        return False\n",
    "    i = 5\n",
    "    while i * i <= number:\n",
    "        if number % i == 0 or number % (i + 2) == 0:\n",
    "            return False\n",
    "        i += 6\n",
    "    return True\n",
    "\n",
    "prime_count = 0\n",
    "number = 2\n",
    "prime_numbers = []\n",
    "\n",
    "while prime_count < 5:\n",
    "    if is_prime(number):\n",
    "        prime_numbers.append(number)\n",
    "        prime_count += 1\n",
    "    number += 1\n",
    "\n",
    "prime_tuple = tuple(prime_numbers)\n",
    "\n",
    "print(prime_tuple)"
   ]
  },
  {
   "cell_type": "code",
   "execution_count": 71,
   "id": "5fffe09e-c222-439a-b963-273ed7eaeb54",
   "metadata": {},
   "outputs": [
    {
     "name": "stdout",
     "output_type": "stream",
     "text": [
      "tuple is palindrome\n"
     ]
    }
   ],
   "source": [
    "#33\n",
    "tup = (1, 2, 3, 3, 2, 1)\n",
    "i = 0\n",
    "j = len(tup) - 1\n",
    "is_palindrome = True\n",
    "while i<=j :\n",
    "    if tup[i] != tup[j]:\n",
    "        is_palindrome = False\n",
    "        break\n",
    "    i += 1\n",
    "    j -= 1\n",
    "\n",
    "if is_palindrome:\n",
    "    print(\"tuple is palindrome\")\n",
    "else:\n",
    "    print(\"tuple is not a palindrome\")"
   ]
  },
  {
   "cell_type": "code",
   "execution_count": 74,
   "id": "7d6425de-4eac-4f2a-8a30-e5537565c043",
   "metadata": {},
   "outputs": [
    {
     "name": "stdout",
     "output_type": "stream",
     "text": [
      "(1, 4, 9, 16, 25)\n"
     ]
    }
   ],
   "source": [
    "#34\n",
    "lst = []\n",
    "for i in range(1, 6):\n",
    "    lst.append(i*i)\n",
    "tup = tuple(lst)\n",
    "print(tup)"
   ]
  },
  {
   "cell_type": "code",
   "execution_count": 77,
   "id": "8d2cc9e9-ccc1-4cf6-b5d2-2022880a2396",
   "metadata": {},
   "outputs": [
    {
     "name": "stdout",
     "output_type": "stream",
     "text": [
      "<generator object <genexpr> at 0x7ff015178120>\n"
     ]
    }
   ],
   "source": [
    "#35\n",
    "tup = (1, 3, 2, 6, 18, 19, 20, 14, 23, 25, 26)\n",
    "lst = []\n",
    "\n",
    "for i in tup:\n",
    "    if i%2 == 0:\n",
    "        lst.append(i)\n",
    "print(tuple(lst))\n"
   ]
  },
  {
   "cell_type": "code",
   "execution_count": 78,
   "id": "2232d1fb-91fe-4989-afaf-0759667ffbc0",
   "metadata": {},
   "outputs": [
    {
     "name": "stdout",
     "output_type": "stream",
     "text": [
      "(2, 4, 6, 8, 10)\n"
     ]
    }
   ],
   "source": [
    "#36\n",
    "tup = (1, 2, 3, 4, 5)\n",
    "new_tuple = tuple(i*2 for i in tup)\n",
    "print(new_tuple)"
   ]
  },
  {
   "cell_type": "code",
   "execution_count": 82,
   "id": "4daec467-c9a3-4352-898b-1d6096f2bdd5",
   "metadata": {},
   "outputs": [
    {
     "name": "stdout",
     "output_type": "stream",
     "text": [
      "Tuple of random numbers: (38, 10, 82, 98, 99)\n"
     ]
    }
   ],
   "source": [
    "#37\n",
    "import random\n",
    "\n",
    "random_tuple = tuple(random.randint(1, 100) for i in range(5))\n",
    "\n",
    "print(\"Tuple of random numbers:\", random_tuple)"
   ]
  },
  {
   "cell_type": "code",
   "execution_count": 85,
   "id": "dbe9a954-20b2-4e98-a981-cf180b329237",
   "metadata": {},
   "outputs": [
    {
     "name": "stdout",
     "output_type": "stream",
     "text": [
      "tuple is sorted\n"
     ]
    }
   ],
   "source": [
    "#38\n",
    "tup = (2, 4, 4, 5, 6)\n",
    "sort = True\n",
    "for i in range(0, len(tup)-1):\n",
    "    if tup[i] > tup[i+1]:\n",
    "        sort = False\n",
    "        break\n",
    "if sort:\n",
    "    print(\"tuple is sorted\")\n",
    "else:\n",
    "    print(\"tuple is not sorted\")"
   ]
  },
  {
   "cell_type": "code",
   "execution_count": 86,
   "id": "26ce03ae-42d5-418d-a028-62d011e6aaf7",
   "metadata": {},
   "outputs": [
    {
     "name": "stdout",
     "output_type": "stream",
     "text": [
      "Original tuple: (1, 2, 3, 4, 5)\n",
      "Tuple rotated to the left by 2 positions: (3, 4, 5, 1, 2)\n"
     ]
    }
   ],
   "source": [
    "#39\n",
    "def rotate_left_tuple(tup, n):\n",
    "    n = n % len(tup)\n",
    "    rotated_tuple = tup[n:] + tup[:n]\n",
    "    return rotated_tuple\n",
    "\n",
    "original_tuple = (1, 2, 3, 4, 5)\n",
    "n_positions = 2\n",
    "\n",
    "rotated_tuple = rotate_left_tuple(original_tuple, n_positions)\n",
    "\n",
    "print(\"Original tuple:\", original_tuple)\n",
    "print(f\"Tuple rotated to the left by {n_positions} positions:\", rotated_tuple)\n"
   ]
  },
  {
   "cell_type": "code",
   "execution_count": 87,
   "id": "984fbd31-f80b-4fa4-b7de-cfe805a4ebc7",
   "metadata": {},
   "outputs": [
    {
     "name": "stdout",
     "output_type": "stream",
     "text": [
      "Original tuple: (1, 2, 3, 4, 5)\n",
      "Tuple rotated to the right by 2 positions: (4, 5, 1, 2, 3)\n"
     ]
    }
   ],
   "source": [
    "#40\n",
    "def rotate_right_tuple(tup, n):\n",
    "    n = n % len(tup) \n",
    "    rotated_tuple = tup[-n:] + tup[:-n]\n",
    "    return rotated_tuple\n",
    "\n",
    "original_tuple = (1, 2, 3, 4, 5)\n",
    "n_positions = 2\n",
    "\n",
    "rotated_tuple = rotate_right_tuple(original_tuple, n_positions)\n",
    "\n",
    "print(\"Original tuple:\", original_tuple)\n",
    "print(f\"Tuple rotated to the right by {n_positions} positions:\", rotated_tuple)\n"
   ]
  },
  {
   "cell_type": "code",
   "execution_count": 88,
   "id": "e6bd651a-2eee-46fe-8565-0c0581f407a9",
   "metadata": {},
   "outputs": [
    {
     "name": "stdout",
     "output_type": "stream",
     "text": [
      "(1, 1, 2, 3, 5)\n"
     ]
    }
   ],
   "source": [
    "#41\n",
    "def fib(n):\n",
    "    if n<2:\n",
    "        return n\n",
    "    return fib(n-1) + fib(n-2)\n",
    "\n",
    "tup = tuple(fib(i) for i in range(1, 6))\n",
    "print(tup)"
   ]
  },
  {
   "cell_type": "code",
   "execution_count": 93,
   "id": "ed273c93-02d7-434e-96da-e0f2506d5287",
   "metadata": {},
   "outputs": [
    {
     "name": "stdin",
     "output_type": "stream",
     "text": [
      "enter size of the tuple 4\n",
      "enter value at index 0:  1\n",
      "enter value at index 1:  2\n",
      "enter value at index 2:  3\n",
      "enter value at index 3:  4\n"
     ]
    },
    {
     "name": "stdout",
     "output_type": "stream",
     "text": [
      "(1, 2, 3, 4)\n"
     ]
    }
   ],
   "source": [
    "#42\n",
    "size = int(input(\"enter size of the tuple\"))\n",
    "tup = tuple(int(input(f\"enter value at index {i}: \")) for i in range(0, size))\n",
    "print(tup)"
   ]
  },
  {
   "cell_type": "code",
   "execution_count": 95,
   "id": "70dbc57d-740d-4711-afdd-d30d962f597d",
   "metadata": {},
   "outputs": [
    {
     "name": "stdout",
     "output_type": "stream",
     "text": [
      "original tuple:  (1, 2, 3, 4, 5)\n",
      "swapped tuple:  (1, 2, 4, 3, 5)\n"
     ]
    }
   ],
   "source": [
    "#43\n",
    "tup = (1, 2, 3, 4, 5)\n",
    "index1 = 2\n",
    "index2 = 3\n",
    "print(\"original tuple: \", tup)\n",
    "lst = list(tup)\n",
    "lst[index1], lst[index2] = lst[index2], lst[index1]\n",
    "\n",
    "swapped_tuple = tuple(lst)\n",
    "print(\"swapped tuple: \", swapped_tuple)"
   ]
  },
  {
   "cell_type": "code",
   "execution_count": 96,
   "id": "60b4ae59-1d8c-43db-9a5f-2a8f987055fd",
   "metadata": {},
   "outputs": [
    {
     "name": "stdout",
     "output_type": "stream",
     "text": [
      "(5, 4, 3, 2, 1)\n"
     ]
    }
   ],
   "source": [
    "#44\n",
    "tup = (1, 2, 3, 4, 5)\n",
    "lst = list(tup)\n",
    "reversed_list = lst[::-1]\n",
    "reversed_tuple = tuple(reversed_list)\n",
    "print(reversed_tuple)"
   ]
  },
  {
   "cell_type": "code",
   "execution_count": 102,
   "id": "1012d31a-fedd-4f7e-8e15-d08a618893a2",
   "metadata": {},
   "outputs": [
    {
     "name": "stdin",
     "output_type": "stream",
     "text": [
      "enter value of n:  4\n"
     ]
    },
    {
     "name": "stdout",
     "output_type": "stream",
     "text": [
      "(1, 2, 4, 8, 16)\n"
     ]
    }
   ],
   "source": [
    "#45\n",
    "n = int(input(\"enter value of n: \"))\n",
    "tup = tuple(pow(2, i) for i in range(0, n+1))\n",
    "print(tup)"
   ]
  },
  {
   "cell_type": "code",
   "execution_count": 2,
   "id": "4e4b232a-f549-4953-8412-7a173a1dcc5a",
   "metadata": {},
   "outputs": [
    {
     "name": "stdout",
     "output_type": "stream",
     "text": [
      "longest string int the string tuple is:  pineapple\n"
     ]
    }
   ],
   "source": [
    "#46\n",
    "tup = (\"apple\", \"banana\", \"pineapple\", \"kiwi\", \"orange\")\n",
    "longest_str = ''\n",
    "for i in tup:\n",
    "    if len(i) > len(longest_str):\n",
    "        longest_str = i\n",
    "\n",
    "print(\"longest string int the string tuple is: \", longest_str)"
   ]
  },
  {
   "cell_type": "code",
   "execution_count": 3,
   "id": "0b5ab687-bb51-4c9f-bbe7-4be4998cacdb",
   "metadata": {},
   "outputs": [
    {
     "name": "stdout",
     "output_type": "stream",
     "text": [
      "shortest string int the string tuple is:  kiwi\n"
     ]
    }
   ],
   "source": [
    "#47\n",
    "tup = (\"apple\", \"banana\", \"pineapple\", \"kiwi\", \"orange\")\n",
    "shortest_str = tup[0]\n",
    "for i in tup:\n",
    "    if len(i) < len(shortest_str):\n",
    "        shortest_str = i\n",
    "\n",
    "print(\"shortest string int the string tuple is: \", shortest_str)"
   ]
  },
  {
   "cell_type": "code",
   "execution_count": 5,
   "id": "ee910cd5-de85-42f8-9699-fcca515fba9e",
   "metadata": {},
   "outputs": [
    {
     "name": "stdin",
     "output_type": "stream",
     "text": [
      "enter value of n 5\n"
     ]
    },
    {
     "name": "stdout",
     "output_type": "stream",
     "text": [
      "(1, 3, 6, 10, 15)\n"
     ]
    }
   ],
   "source": [
    "#48\n",
    "n = int(input(\"enter value of n\"))\n",
    "tup = tuple((i*(i+1))//2 for i in range(1, n+1))\n",
    "print(tup)"
   ]
  },
  {
   "cell_type": "code",
   "execution_count": 6,
   "id": "9574de71-53b7-4dd9-8783-536e61f2682d",
   "metadata": {},
   "outputs": [],
   "source": [
    "#49\n",
    "#not done"
   ]
  },
  {
   "cell_type": "code",
   "execution_count": 7,
   "id": "d4e571bd-2fee-41d5-928a-45deb4347d32",
   "metadata": {},
   "outputs": [
    {
     "name": "stdin",
     "output_type": "stream",
     "text": [
      "enter size of tuple 10\n"
     ]
    },
    {
     "name": "stdout",
     "output_type": "stream",
     "text": [
      "(1, 0, 1, 0, 1, 0, 1, 0, 1, 0, 1)\n"
     ]
    }
   ],
   "source": [
    "#50\n",
    "n = int(input(\"enter size of tuple\"))\n",
    "tup = tuple(1 if i%2 == 0 else 0 for i in range(0, n+1))\n",
    "print(tup)"
   ]
  },
  {
   "cell_type": "code",
   "execution_count": 8,
   "id": "cb6fad06-4fde-43aa-b262-9b34aa2f1a05",
   "metadata": {},
   "outputs": [],
   "source": [
    "#SET"
   ]
  },
  {
   "cell_type": "code",
   "execution_count": 5,
   "id": "47cfa3fe-a7c0-4f2d-b3d7-484a3cd6fe18",
   "metadata": {},
   "outputs": [
    {
     "name": "stdout",
     "output_type": "stream",
     "text": [
      "{1, 2, 3, 4, 5}\n"
     ]
    }
   ],
   "source": [
    "#1\n",
    "my_set = {1, 2, 3, 4, 5}\n",
    "print(my_set)"
   ]
  },
  {
   "cell_type": "code",
   "execution_count": 6,
   "id": "4bf01bea-4338-4d21-a205-16a2c1ffb042",
   "metadata": {},
   "outputs": [
    {
     "name": "stdout",
     "output_type": "stream",
     "text": [
      "{1, 2, 3, 4, 5}\n"
     ]
    }
   ],
   "source": [
    "#2\n",
    "my_set = {1, 2, 3, 4}\n",
    "my_set.add(5)\n",
    "print(my_set)"
   ]
  },
  {
   "cell_type": "code",
   "execution_count": 7,
   "id": "a0e9341c-fb2f-40d8-84fa-a238409425b0",
   "metadata": {},
   "outputs": [
    {
     "name": "stdout",
     "output_type": "stream",
     "text": [
      "{1, 2, 3, 4}\n"
     ]
    }
   ],
   "source": [
    "#3\n",
    "s = {1, 2, 3, 4, 5}\n",
    "s.discard(5)\n",
    "print(s)"
   ]
  },
  {
   "cell_type": "code",
   "execution_count": 8,
   "id": "63177282-3820-4118-84db-c5b93c8e9ab6",
   "metadata": {},
   "outputs": [
    {
     "name": "stdout",
     "output_type": "stream",
     "text": [
      "3 exists in the set\n"
     ]
    }
   ],
   "source": [
    "#4\n",
    "s = {1, 2, 3, 4, 5}\n",
    "x = 3\n",
    "if x in s:\n",
    "    print(f\"{x} exists in the set\")\n",
    "else:\n",
    "    print(f\"{x} do not exist in the set\")"
   ]
  },
  {
   "cell_type": "code",
   "execution_count": 9,
   "id": "e1ea8a45-61c9-4c09-9256-1d9a71c6d3a1",
   "metadata": {},
   "outputs": [
    {
     "name": "stdout",
     "output_type": "stream",
     "text": [
      "the length of the set is:  5\n"
     ]
    }
   ],
   "source": [
    "#5\n",
    "s = {1, 2, 3, 4, 5}\n",
    "length = 0\n",
    "for i in s:\n",
    "    length += 1\n",
    "print(\"the length of the set is: \", length)"
   ]
  },
  {
   "cell_type": "code",
   "execution_count": 22,
   "id": "b25a2470-12eb-43aa-b815-9319376e54bc",
   "metadata": {},
   "outputs": [
    {
     "name": "stdout",
     "output_type": "stream",
     "text": [
      "empty set:  set()\n"
     ]
    }
   ],
   "source": [
    "#6\n",
    "s = {1, 2, 3, 4, 5}\n",
    "s.clear()\n",
    "print(\"empty set: \",s)"
   ]
  },
  {
   "cell_type": "code",
   "execution_count": 23,
   "id": "09a139b6-2586-4fbf-96cc-99147e4a77af",
   "metadata": {},
   "outputs": [
    {
     "name": "stdout",
     "output_type": "stream",
     "text": [
      "even numbers set:  {2, 4, 6, 8, 10}\n"
     ]
    }
   ],
   "source": [
    "#7\n",
    "s = {2, 4, 6, 8, 10}\n",
    "print(\"even numbers set: \",s)"
   ]
  },
  {
   "cell_type": "code",
   "execution_count": 24,
   "id": "a4f04619-eb9a-412e-a1ec-9d26b99f4bbb",
   "metadata": {},
   "outputs": [
    {
     "name": "stdout",
     "output_type": "stream",
     "text": [
      "odd numbers set:  {1, 3, 5, 7, 9}\n"
     ]
    }
   ],
   "source": [
    "#8\n",
    "s = {1, 3, 5, 7, 9}\n",
    "print(\"odd numbers set: \",s)"
   ]
  },
  {
   "cell_type": "code",
   "execution_count": 26,
   "id": "f7256a13-75ac-4d3f-b358-93fa01c2be57",
   "metadata": {},
   "outputs": [
    {
     "name": "stdout",
     "output_type": "stream",
     "text": [
      "union os s1 and s2 is:  {1, 2, 3, 4, 5}\n"
     ]
    }
   ],
   "source": [
    "#9\n",
    "s1 = {1, 2, 3}\n",
    "s2 = {3, 4, 5}\n",
    "s3 = s1.union(s2)\n",
    "print(\"union os s1 and s2 is: \",s3)"
   ]
  },
  {
   "cell_type": "code",
   "execution_count": 27,
   "id": "64e0a00e-590a-4468-b2ad-25874f18e676",
   "metadata": {},
   "outputs": [
    {
     "name": "stdout",
     "output_type": "stream",
     "text": [
      "intersection of s1 and s2 is:  {2, 3}\n"
     ]
    }
   ],
   "source": [
    "#10\n",
    "s1 = {1, 2, 3}\n",
    "s2 = {2, 3, 4}\n",
    "s3 = s1.intersection(s2)\n",
    "print(\"intersection of s1 and s2 is: \",s3)"
   ]
  },
  {
   "cell_type": "code",
   "execution_count": 30,
   "id": "258d3f77-1add-4604-a47a-5c4de04fa3f2",
   "metadata": {},
   "outputs": [
    {
     "name": "stdout",
     "output_type": "stream",
     "text": [
      "difference of s1 and s2 is:  {1, 2}\n"
     ]
    }
   ],
   "source": [
    "#11\n",
    "s1 = {1, 2, 3}\n",
    "s2 = {3, 4, 5}\n",
    "s3 = s1.difference(s2)\n",
    "print(\"difference of s1 and s2 is: \", s3)"
   ]
  },
  {
   "cell_type": "code",
   "execution_count": 31,
   "id": "3c783c8d-d64b-4602-a75b-187bec4f279b",
   "metadata": {},
   "outputs": [
    {
     "name": "stdout",
     "output_type": "stream",
     "text": [
      "s2 is subset of s1\n"
     ]
    }
   ],
   "source": [
    "#12\n",
    "s1 = {1, 2, 3, 4, 5}\n",
    "s2 = {2, 3, 4}\n",
    "if s2.issubset(s1):\n",
    "    print(\"s2 is subset of s1\")\n",
    "else:\n",
    "    print(\"s2 is not a subset of s1\")"
   ]
  },
  {
   "cell_type": "code",
   "execution_count": 11,
   "id": "8c99d9ff-d94c-4d58-ae55-c33033ccc30c",
   "metadata": {},
   "outputs": [
    {
     "name": "stdout",
     "output_type": "stream",
     "text": [
      "s2 is superset of s1\n"
     ]
    }
   ],
   "source": [
    "#13\n",
    "s1 = {1, 2, 3, 4, 5}\n",
    "s2 = {1, 2, 3}\n",
    "\n",
    "if s1.issuperset(s2):\n",
    "    print(\"s2 is superset of s1\")\n",
    "else:\n",
    "    print(\"s2 is not superset of s1\")"
   ]
  },
  {
   "cell_type": "code",
   "execution_count": 14,
   "id": "4e500e53-b407-4f0e-b966-8d51aa2e221b",
   "metadata": {},
   "outputs": [
    {
     "name": "stdout",
     "output_type": "stream",
     "text": [
      "{1, 2, 3, 4, 5}\n"
     ]
    }
   ],
   "source": [
    "#14\n",
    "lst = [1, 2, 3, 4, 5]\n",
    "s = set(lst)\n",
    "print(s)"
   ]
  },
  {
   "cell_type": "code",
   "execution_count": 17,
   "id": "1e252074-3f21-480c-b625-e581b512ad63",
   "metadata": {},
   "outputs": [
    {
     "name": "stdout",
     "output_type": "stream",
     "text": [
      "[1, 2, 3, 4, 5]\n"
     ]
    }
   ],
   "source": [
    "#15\n",
    "s = {1, 2, 3, 4, 5}\n",
    "lst = list(s)\n",
    "print(lst)"
   ]
  },
  {
   "cell_type": "code",
   "execution_count": 28,
   "id": "a235d1b1-be10-490d-aa93-ff6faffbf6ab",
   "metadata": {},
   "outputs": [
    {
     "name": "stdout",
     "output_type": "stream",
     "text": [
      "Updated set: {1, 3, 4, 5}\n"
     ]
    }
   ],
   "source": [
    "#16\n",
    "my_set = {1, 2, 3, 4, 5}\n",
    "my_set.remove(2)\n",
    "print(f\"Updated set: {my_set}\")"
   ]
  },
  {
   "cell_type": "code",
   "execution_count": 29,
   "id": "4a087063-a047-48c0-a030-0bef080ce313",
   "metadata": {},
   "outputs": [
    {
     "name": "stdout",
     "output_type": "stream",
     "text": [
      "Updated set: {2, 3, 4, 5}\n"
     ]
    }
   ],
   "source": [
    "#17\n",
    "my_set = {1, 2, 3, 4, 5}\n",
    "my_set.pop()\n",
    "print(f\"Updated set: {my_set}\")"
   ]
  },
  {
   "cell_type": "code",
   "execution_count": 32,
   "id": "8d371e87-d1f5-4ed5-88b6-8db3ae474f95",
   "metadata": {},
   "outputs": [
    {
     "name": "stdout",
     "output_type": "stream",
     "text": [
      "s1 and s2 have elements in common\n"
     ]
    }
   ],
   "source": [
    "#18\n",
    "s1 = {1, 2, 3}\n",
    "s2 = {4, 5, 6}\n",
    "if s1.union == False:\n",
    "    print(\"s1 and s2 dont have anything in common\")\n",
    "else:\n",
    "    print(\"s1 and s2 have elements in common\")"
   ]
  },
  {
   "cell_type": "code",
   "execution_count": 36,
   "id": "05362ffc-fe55-43d2-a4b3-0e67a8941c5c",
   "metadata": {},
   "outputs": [
    {
     "name": "stdout",
     "output_type": "stream",
     "text": [
      "symmetric difference of s1 and s2 is:  {1, 2, 4, 5}\n"
     ]
    }
   ],
   "source": [
    "#19\n",
    "s1 = {1, 2, 3}\n",
    "s2 = {3, 4, 5}\n",
    "print(\"symmetric difference of s1 and s2 is: \",s1.symmetric_difference(s2))"
   ]
  },
  {
   "cell_type": "code",
   "execution_count": 40,
   "id": "04716e73-cab6-4d6a-a82f-c13a8b766699",
   "metadata": {},
   "outputs": [
    {
     "name": "stdout",
     "output_type": "stream",
     "text": [
      "updated set s1:  {1, 2, 3, 4, 5}\n"
     ]
    }
   ],
   "source": [
    "#20\n",
    "s1 = {1, 2, 3}\n",
    "s2 = {3, 4, 5}\n",
    "s1.update(s2)\n",
    "print(\"updated set s1: \", s1)"
   ]
  },
  {
   "cell_type": "code",
   "execution_count": 41,
   "id": "7b63f0b3-4b3a-424f-8edc-ddea761b6415",
   "metadata": {},
   "outputs": [
    {
     "name": "stdout",
     "output_type": "stream",
     "text": [
      "{2, 3, 5, 7, 11}\n"
     ]
    }
   ],
   "source": [
    "#21\n",
    "prime_numbers = {2, 3, 5, 7, 11}\n",
    "print(prime_numbers)"
   ]
  },
  {
   "cell_type": "code",
   "execution_count": 42,
   "id": "c878524d-aebe-42dc-9033-86043ffc06b1",
   "metadata": {},
   "outputs": [
    {
     "name": "stdout",
     "output_type": "stream",
     "text": [
      "s1 and s2 are identical\n"
     ]
    }
   ],
   "source": [
    "#22\n",
    "s1 = {1, 2, 3}\n",
    "s2 = {1, 2, 3}\n",
    "if s1 == s2:\n",
    "    print(\"s1 and s2 are identical\")\n",
    "else:\n",
    "    print(\"s1 and s2 are not identical\")"
   ]
  },
  {
   "cell_type": "code",
   "execution_count": 45,
   "id": "3cdd16fd-356b-44dc-a838-bf9e44b1fae3",
   "metadata": {},
   "outputs": [
    {
     "name": "stdout",
     "output_type": "stream",
     "text": [
      "frozenset({1, 2, 3})\n"
     ]
    }
   ],
   "source": [
    "#23\n",
    "s = {1, 2, 3, 4, 5}\n",
    "frozen_set = frozenset(s1)\n",
    "print(frozen_set)"
   ]
  },
  {
   "cell_type": "code",
   "execution_count": 46,
   "id": "07dc604c-b64d-4448-aa2a-9070b9fe6d43",
   "metadata": {},
   "outputs": [
    {
     "name": "stdout",
     "output_type": "stream",
     "text": [
      "set1 and set2 are disjoint\n"
     ]
    }
   ],
   "source": [
    "#24\n",
    "set1 = {1, 2, 3}\n",
    "set2 = {4, 5, 6}\n",
    "\n",
    "if set1.isdisjoint(set2):\n",
    "    print(\"set1 and set2 are disjoint\")\n",
    "else:\n",
    "    print(\"set1 and set2 are not disjoint\")"
   ]
  },
  {
   "cell_type": "code",
   "execution_count": 48,
   "id": "ee6eba6c-0c38-4e1a-820f-b29d12a54016",
   "metadata": {},
   "outputs": [
    {
     "name": "stdout",
     "output_type": "stream",
     "text": [
      "{1, 4, 9, 16, 25}\n"
     ]
    }
   ],
   "source": [
    "#25\n",
    "s = set(i*i for i in range(1, 6))\n",
    "print(s)"
   ]
  },
  {
   "cell_type": "code",
   "execution_count": 3,
   "id": "06a30075-061f-4f76-80a5-7f976529da11",
   "metadata": {},
   "outputs": [
    {
     "name": "stdout",
     "output_type": "stream",
     "text": [
      "{2, 4, 8, 10, 12, 14, 18}\n"
     ]
    }
   ],
   "source": [
    "#26\n",
    "s1 = {1, 4, 2, 8, 10, 12, 18, 14}\n",
    "s2 = {i for i in s1 if i%2 == 0}\n",
    "print(s2)"
   ]
  },
  {
   "cell_type": "code",
   "execution_count": 11,
   "id": "61ae2f53-a9fd-4280-a02b-9b7473b45ac5",
   "metadata": {},
   "outputs": [
    {
     "name": "stdout",
     "output_type": "stream",
     "text": [
      "{2, 4, 6, 8, 10}\n"
     ]
    }
   ],
   "source": [
    "#27\n",
    "s1 = {1, 2, 3, 4, 5}\n",
    "s2 = {i*2 for i in s1}\n",
    "print(s2)"
   ]
  },
  {
   "cell_type": "code",
   "execution_count": 14,
   "id": "57a0c1b6-df78-4ea6-b721-922f972a2d1b",
   "metadata": {},
   "outputs": [
    {
     "name": "stdout",
     "output_type": "stream",
     "text": [
      "{6, 71, 73, 10, 9, 41, 11, 49, 86, 90}\n"
     ]
    }
   ],
   "source": [
    "#28\n",
    "import random\n",
    "s = {random.randint(1, 100) for _ in range(1, 11)}\n",
    "print(s)"
   ]
  },
  {
   "cell_type": "code",
   "execution_count": 16,
   "id": "3fcdd683-b7fa-46c9-bb8d-ecd65a8f094b",
   "metadata": {},
   "outputs": [
    {
     "name": "stdout",
     "output_type": "stream",
     "text": [
      "set is empty\n"
     ]
    }
   ],
   "source": [
    "#29\n",
    "s = {}\n",
    "if not s:\n",
    "    print(\"set is empty\")\n",
    "else:\n",
    "    print(\"set is not empty\")"
   ]
  },
  {
   "cell_type": "code",
   "execution_count": 17,
   "id": "24b56ec2-d9af-4aa1-b903-e5881664d9da",
   "metadata": {},
   "outputs": [
    {
     "name": "stdout",
     "output_type": "stream",
     "text": [
      "{frozenset({3, 4, 5}), frozenset({8, 6, 7}), frozenset({1, 2})}\n"
     ]
    }
   ],
   "source": [
    "#30\n",
    "nested_set = {frozenset({1, 2}), frozenset({3, 4, 5}), frozenset({6, 7, 8})}\n",
    "print(nested_set)\n"
   ]
  },
  {
   "cell_type": "code",
   "execution_count": 19,
   "id": "48b7d8e0-3753-4fbc-878f-497c7bde482a",
   "metadata": {},
   "outputs": [
    {
     "name": "stdout",
     "output_type": "stream",
     "text": [
      "updated set:  {1, 3, 4, 5}\n"
     ]
    }
   ],
   "source": [
    "#31\n",
    "s = {1, 2, 3, 4, 5}\n",
    "s.discard(2)\n",
    "print(\"updated set: \", s)"
   ]
  },
  {
   "cell_type": "code",
   "execution_count": 21,
   "id": "86502594-b715-4afd-8d28-6c79cfdef94e",
   "metadata": {},
   "outputs": [
    {
     "name": "stdout",
     "output_type": "stream",
     "text": [
      "s1 and s1 have same elements\n"
     ]
    }
   ],
   "source": [
    "#32\n",
    "set1 = {1, 2, 3}\n",
    "set2 = {3, 2, 1}\n",
    "\n",
    "if(set1 == set2):\n",
    "    print(\"s1 and s1 have same elements\")"
   ]
  },
  {
   "cell_type": "code",
   "execution_count": 33,
   "id": "a7e8b9e5-f004-484c-ad8b-d7e4c74d9177",
   "metadata": {},
   "outputs": [
    {
     "name": "stdout",
     "output_type": "stream",
     "text": [
      "{'world', 'hello'}\n"
     ]
    }
   ],
   "source": [
    "#33\n",
    "string = \"hello world\"\n",
    "s = set(str.split())\n",
    "print(s)"
   ]
  },
  {
   "cell_type": "code",
   "execution_count": 28,
   "id": "541f4229-d752-4d44-a6ea-264d7d68bebe",
   "metadata": {},
   "outputs": [
    {
     "name": "stdout",
     "output_type": "stream",
     "text": [
      "{1, 2, 3, 4, 5}\n"
     ]
    }
   ],
   "source": [
    "#34\n",
    "string_set = {\"1\", \"2\", \"3\", \"4\", \"5\"}\n",
    "\n",
    "integer_set = set(map(int, string_set))\n",
    "\n",
    "print(integer_set)\n"
   ]
  },
  {
   "cell_type": "code",
   "execution_count": 36,
   "id": "063405b1-dca2-4954-8062-be7b9c4360e8",
   "metadata": {},
   "outputs": [
    {
     "ename": "TypeError",
     "evalue": "'str' object is not callable",
     "output_type": "error",
     "traceback": [
      "\u001b[0;31m---------------------------------------------------------------------------\u001b[0m",
      "\u001b[0;31mTypeError\u001b[0m                                 Traceback (most recent call last)",
      "Cell \u001b[0;32mIn[36], line 3\u001b[0m\n\u001b[1;32m      1\u001b[0m \u001b[38;5;66;03m#35\u001b[39;00m\n\u001b[1;32m      2\u001b[0m integer_set \u001b[38;5;241m=\u001b[39m {\u001b[38;5;241m1\u001b[39m, \u001b[38;5;241m2\u001b[39m, \u001b[38;5;241m3\u001b[39m, \u001b[38;5;241m4\u001b[39m, \u001b[38;5;241m5\u001b[39m}\n\u001b[0;32m----> 3\u001b[0m string_set \u001b[38;5;241m=\u001b[39m \u001b[38;5;28;43mset\u001b[39;49m\u001b[43m(\u001b[49m\u001b[38;5;28;43mmap\u001b[39;49m\u001b[43m(\u001b[49m\u001b[38;5;28;43mstr\u001b[39;49m\u001b[43m,\u001b[49m\u001b[43m \u001b[49m\u001b[43minteger_set\u001b[49m\u001b[43m)\u001b[49m\u001b[43m)\u001b[49m\n\u001b[1;32m      4\u001b[0m \u001b[38;5;28mprint\u001b[39m(string_set)\n",
      "\u001b[0;31mTypeError\u001b[0m: 'str' object is not callable"
     ]
    }
   ],
   "source": [
    "#35\n",
    "integer_set = {1, 2, 3, 4, 5}\n",
    "string_set = set(map(str, integer_set))\n",
    "print(string_set)"
   ]
  },
  {
   "cell_type": "code",
   "execution_count": 38,
   "id": "658696ea-2d11-4445-8af8-c50a315a56ec",
   "metadata": {},
   "outputs": [
    {
     "name": "stdout",
     "output_type": "stream",
     "text": [
      "tuple:  (1, 2, 3, 4, 5)\n",
      "set:  {1, 2, 3, 4, 5}\n"
     ]
    }
   ],
   "source": [
    "#36\n",
    "tup = (1, 2, 3, 4, 5)\n",
    "print(\"tuple: \", tup)\n",
    "print(\"set: \", set(tup))"
   ]
  },
  {
   "cell_type": "code",
   "execution_count": 39,
   "id": "38a2d38c-4e5b-450d-a0a0-f237957212e3",
   "metadata": {},
   "outputs": [
    {
     "name": "stdout",
     "output_type": "stream",
     "text": [
      "set:  {1, 2, 3, 4, 5}\n",
      "tuple:  (1, 2, 3, 4, 5)\n"
     ]
    }
   ],
   "source": [
    "#37\n",
    "s = {1, 2, 3, 4, 5}\n",
    "print(\"set: \", s)\n",
    "print(\"tuple: \", tuple(s))"
   ]
  },
  {
   "cell_type": "code",
   "execution_count": 41,
   "id": "7ae7ee7f-074e-47c0-a101-36e8a4c1736e",
   "metadata": {},
   "outputs": [
    {
     "name": "stdout",
     "output_type": "stream",
     "text": [
      "maximum value in the set is:  23\n"
     ]
    }
   ],
   "source": [
    "#38\n",
    "s = {1, 5, 10, 13, 19, 23}\n",
    "print(\"maximum value in the set is: \", max(s))"
   ]
  },
  {
   "cell_type": "code",
   "execution_count": 42,
   "id": "26e2afca-1cf6-4e5b-9633-6d0204ada65a",
   "metadata": {},
   "outputs": [
    {
     "name": "stdout",
     "output_type": "stream",
     "text": [
      "minimum value in the set is:  1\n"
     ]
    }
   ],
   "source": [
    "#39\n",
    "s = {1, 5, 10, 13, 19, 23}\n",
    "print(\"minimum value in the set is: \", min(s))"
   ]
  },
  {
   "cell_type": "code",
   "execution_count": 45,
   "id": "053553b8-ff1d-4f4b-937d-8a7ddcbd98a9",
   "metadata": {},
   "outputs": [
    {
     "name": "stdin",
     "output_type": "stream",
     "text": [
      "Enter an element (or 'done' to finish):  2\n",
      "Enter an element (or 'done' to finish):  1\n",
      "Enter an element (or 'done' to finish):  4\n",
      "Enter an element (or 'done' to finish):  done\n"
     ]
    },
    {
     "name": "stdout",
     "output_type": "stream",
     "text": [
      "Set from user input: {'2', '4', '1'}\n"
     ]
    }
   ],
   "source": [
    "#40\n",
    "s = set()\n",
    "\n",
    "while True:\n",
    "    element = input(\"Enter an element (or 'done' to finish): \")\n",
    "    if element.lower() == 'done':\n",
    "        break\n",
    "    s.add(element)\n",
    "\n",
    "print(\"Set from user input:\", s)"
   ]
  },
  {
   "cell_type": "code",
   "execution_count": 49,
   "id": "a52a45e3-5708-4e4e-b645-a22954a008af",
   "metadata": {},
   "outputs": [
    {
     "name": "stdout",
     "output_type": "stream",
     "text": [
      "intersecton of s1 and s2:  set()\n",
      "intersection of two sets is empty.\n"
     ]
    }
   ],
   "source": [
    "#41\n",
    "s1 = {1, 2, 3}\n",
    "s2 = {4, 5, 6}\n",
    "s3 = s1.intersection(s2)\n",
    "print(\"intersecton of s1 and s2: \", s3)\n",
    "if len(s3) < 1:\n",
    "    print(\"intersection of two sets is empty.\")\n",
    "else:\n",
    "    print(\"intersection of two sets is not empty.\")"
   ]
  },
  {
   "cell_type": "code",
   "execution_count": 62,
   "id": "72912fba-761b-4934-8b18-df73072b55e5",
   "metadata": {},
   "outputs": [
    {
     "name": "stdout",
     "output_type": "stream",
     "text": [
      "{0, 1, 2, 3, 5}\n"
     ]
    }
   ],
   "source": [
    "#42\n",
    "def fib(n):\n",
    "    if n <= 2:\n",
    "        return n\n",
    "    return fib(n-1) + fib(n-2)\n",
    "s = set()\n",
    "for i in range(0, 5):\n",
    "    s.add(fib(i))\n",
    "print(s)"
   ]
  },
  {
   "cell_type": "code",
   "execution_count": 63,
   "id": "3abc7a0f-8f90-4216-b925-622179c5b1f0",
   "metadata": {},
   "outputs": [
    {
     "name": "stdout",
     "output_type": "stream",
     "text": [
      "[1, 2, 3, 4, 5]\n"
     ]
    }
   ],
   "source": [
    "#43\n",
    "lst = [1, 2, 2, 3, 4, 4, 5, 5]\n",
    "unique_list = list(set(lst))\n",
    "\n",
    "print(unique_list) "
   ]
  },
  {
   "cell_type": "code",
   "execution_count": 64,
   "id": "1233df34-de56-4f5f-a7cb-a4c1da7e7ccd",
   "metadata": {},
   "outputs": [
    {
     "name": "stdout",
     "output_type": "stream",
     "text": [
      "The sets have the same elements.\n"
     ]
    }
   ],
   "source": [
    "#44\n",
    "set1 = {1, 2, 3}\n",
    "set2 = {3, 2, 1}\n",
    "\n",
    "if set1 == set2:\n",
    "    print(\"The sets have the same elements.\")\n",
    "else:\n",
    "    print(\"The sets do not have the same elements.\")"
   ]
  },
  {
   "cell_type": "code",
   "execution_count": 68,
   "id": "29a9b5b8-2eab-4b0e-92f3-b5897dfdc710",
   "metadata": {},
   "outputs": [
    {
     "name": "stdout",
     "output_type": "stream",
     "text": [
      "{32, 2, 4, 8, 16}\n"
     ]
    }
   ],
   "source": [
    "#45\n",
    "n = 5\n",
    "s = {pow(2, i) for i in range(1, n+1)}\n",
    "print(s)"
   ]
  },
  {
   "cell_type": "code",
   "execution_count": 69,
   "id": "b0146d20-60a3-49c0-985a-72b845793da6",
   "metadata": {},
   "outputs": [
    {
     "name": "stdout",
     "output_type": "stream",
     "text": [
      "common elements in set and list are:  {4, 6}\n"
     ]
    }
   ],
   "source": [
    "#46\n",
    "s = {2, 4, 6, 8}\n",
    "lst = [4, 6, 10, 12]\n",
    "\n",
    "common_elements = s.intersection(lst)\n",
    "print(\"common elements in set and list are: \", common_elements)"
   ]
  },
  {
   "cell_type": "code",
   "execution_count": 71,
   "id": "947d3bbf-2ced-465f-ab9d-26a757ed4e2f",
   "metadata": {},
   "outputs": [
    {
     "name": "stdout",
     "output_type": "stream",
     "text": [
      "set of the first `5` triangular numbers:  {1, 3, 6, 10, 15}\n"
     ]
    }
   ],
   "source": [
    "#47\n",
    "n = 5\n",
    "s = {(i*(i+1))//2 for i in range(1, n+1)}\n",
    "print(f\"set of the first `{n}` triangular numbers: \", s)"
   ]
  },
  {
   "cell_type": "code",
   "execution_count": 72,
   "id": "bab117b6-857c-439e-bf24-0b2aca13ef08",
   "metadata": {},
   "outputs": [
    {
     "name": "stdout",
     "output_type": "stream",
     "text": [
      "subset is a subset of s\n"
     ]
    }
   ],
   "source": [
    "#48\n",
    "s = {1, 2, 3, 4, 5, 6, 7, 8, 9, 10}\n",
    "subset = {2, 4, 6, 8}\n",
    "\n",
    "if subset.issubset(s):\n",
    "    print(\"subset is a subset of s\")\n",
    "else:\n",
    "    print(\"subset is not a subset of s\")"
   ]
  },
  {
   "cell_type": "code",
   "execution_count": 74,
   "id": "74a04509-97be-44d0-82be-4bdf4110e9b6",
   "metadata": {},
   "outputs": [
    {
     "name": "stdout",
     "output_type": "stream",
     "text": [
      "{0, 1}\n"
     ]
    }
   ],
   "source": [
    "#49\n",
    "n = 10\n",
    "s = {i % 2 for i in range(n)}\n",
    "print(s)"
   ]
  },
  {
   "cell_type": "code",
   "execution_count": 75,
   "id": "5a924217-d4c1-4ba0-9743-d7b1ed3e8cda",
   "metadata": {},
   "outputs": [
    {
     "name": "stdout",
     "output_type": "stream",
     "text": [
      "merged set:  {1, 2, 3, 4, 5, 6, 7, 8, 9}\n"
     ]
    }
   ],
   "source": [
    "#50\n",
    "s1 = {1, 2, 3}\n",
    "s2 = {4, 5, 6}\n",
    "s3 = {7, 8, 9}\n",
    "merged_set = s1.union(s2, s3)\n",
    "print(\"merged set: \", merged_set)"
   ]
  },
  {
   "cell_type": "code",
   "execution_count": null,
   "id": "b2845830-441d-4c99-851b-6388041f9256",
   "metadata": {},
   "outputs": [],
   "source": []
  }
 ],
 "metadata": {
  "kernelspec": {
   "display_name": "Python 3 (ipykernel)",
   "language": "python",
   "name": "python3"
  },
  "language_info": {
   "codemirror_mode": {
    "name": "ipython",
    "version": 3
   },
   "file_extension": ".py",
   "mimetype": "text/x-python",
   "name": "python",
   "nbconvert_exporter": "python",
   "pygments_lexer": "ipython3",
   "version": "3.10.8"
  }
 },
 "nbformat": 4,
 "nbformat_minor": 5
}
